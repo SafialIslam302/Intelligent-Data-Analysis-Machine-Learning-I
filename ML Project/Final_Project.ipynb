{
 "cells": [
  {
   "cell_type": "code",
   "execution_count": 118,
   "id": "760bfdaf",
   "metadata": {},
   "outputs": [],
   "source": [
    "# Imports\n",
    "import numpy as np\n",
    "import pandas as pd\n",
    "from collections import Counter, defaultdict\n",
    "\n",
    "#visual\n",
    "import seaborn as sns \n",
    "import matplotlib.pyplot as plt\n",
    "import missingno as mno\n",
    "from imblearn.over_sampling import SMOTE\n",
    "from sklearn.metrics import plot_confusion_matrix\n",
    "from sklearn.metrics import plot_roc_curve\n",
    "\n",
    "#learning\n",
    "from sklearn.preprocessing import OneHotEncoder, LabelEncoder, LabelBinarizer\n",
    "from sklearn.ensemble import RandomForestClassifier, ExtraTreesClassifier\n",
    "from sklearn.model_selection import train_test_split, cross_val_score, GridSearchCV\n",
    "from sklearn.metrics import precision_score, accuracy_score, confusion_matrix, f1_score, recall_score\n",
    "from sklearn.utils.multiclass import unique_labels\n",
    "from sklearn.linear_model import SGDClassifier, RidgeClassifier, LogisticRegression\n",
    "from sklearn.svm import LinearSVC, SVC\n",
    "from sklearn.gaussian_process.kernels import RBF\n",
    "from sklearn.metrics import mean_squared_error\n",
    "from sklearn.ensemble import RandomForestRegressor\n",
    "from sklearn.tree import DecisionTreeClassifier\n",
    "from keras.models import Sequential\n",
    "from keras.layers.core import Dense\n",
    "from keras.layers.core import Activation\n",
    "from sklearn import metrics\n",
    "\n",
    "# import warnings filter\n",
    "from warnings import simplefilter\n",
    "\n",
    "# ignore all future warnings\n",
    "simplefilter(action='ignore', category=FutureWarning)\n",
    "import warnings\n",
    "warnings.filterwarnings('ignore')\n",
    "\n",
    "%matplotlib inline"
   ]
  },
  {
   "cell_type": "markdown",
   "id": "f9553708",
   "metadata": {},
   "source": [
    "# Data"
   ]
  },
  {
   "cell_type": "code",
   "execution_count": 119,
   "id": "69242ea0",
   "metadata": {},
   "outputs": [
    {
     "data": {
      "text/plain": [
       "(1000, 21)"
      ]
     },
     "execution_count": 119,
     "metadata": {},
     "output_type": "execute_result"
    }
   ],
   "source": [
    "# Naming the columns\n",
    "names = ['account_status', 'duration', 'credit_history',\n",
    "             'purpose', 'credit_amount', 'savings_account', 'employment_since',\n",
    "             'installment_rate', 'personal_status_sex', 'guarantors', \n",
    "             'residence_since', 'property', 'age', 'other_installment_plans',\n",
    "             'housing', 'number_of_credits', 'job', 'people_to_maintain',\n",
    "             'phone', 'foreign_worker', 'creditworthy']\n",
    "\n",
    "df = pd.read_csv('kredit.dat', header=None, sep=\"\\t\", names=names)\n",
    "df.shape"
   ]
  },
  {
   "cell_type": "code",
   "execution_count": 120,
   "id": "4a3d86a5",
   "metadata": {},
   "outputs": [
    {
     "name": "stdout",
     "output_type": "stream",
     "text": [
      "<class 'pandas.core.frame.DataFrame'>\n",
      "RangeIndex: 1000 entries, 0 to 999\n",
      "Data columns (total 21 columns):\n",
      " #   Column                   Non-Null Count  Dtype \n",
      "---  ------                   --------------  ----- \n",
      " 0   account_status           1000 non-null   object\n",
      " 1   duration                 1000 non-null   int64 \n",
      " 2   credit_history           1000 non-null   object\n",
      " 3   purpose                  1000 non-null   object\n",
      " 4   credit_amount            1000 non-null   int64 \n",
      " 5   savings_account          1000 non-null   object\n",
      " 6   employment_since         1000 non-null   object\n",
      " 7   installment_rate         1000 non-null   int64 \n",
      " 8   personal_status_sex      1000 non-null   object\n",
      " 9   guarantors               1000 non-null   object\n",
      " 10  residence_since          1000 non-null   int64 \n",
      " 11  property                 1000 non-null   object\n",
      " 12  age                      1000 non-null   int64 \n",
      " 13  other_installment_plans  1000 non-null   object\n",
      " 14  housing                  1000 non-null   object\n",
      " 15  number_of_credits        1000 non-null   int64 \n",
      " 16  job                      1000 non-null   object\n",
      " 17  people_to_maintain       1000 non-null   int64 \n",
      " 18  phone                    1000 non-null   object\n",
      " 19  foreign_worker           1000 non-null   object\n",
      " 20  creditworthy             1000 non-null   int64 \n",
      "dtypes: int64(8), object(13)\n",
      "memory usage: 164.2+ KB\n"
     ]
    }
   ],
   "source": [
    "df.info()"
   ]
  },
  {
   "cell_type": "code",
   "execution_count": 121,
   "id": "822a6f7a",
   "metadata": {},
   "outputs": [
    {
     "data": {
      "text/plain": [
       "(1000, 20)"
      ]
     },
     "execution_count": 121,
     "metadata": {},
     "output_type": "execute_result"
    }
   ],
   "source": [
    "# Select the Last column - target variable\n",
    "df.creditworthy.replace([1,2], [1,0], inplace=True)\n",
    "label = df['creditworthy']\n",
    "df_new = df.drop(columns=['creditworthy'])\n",
    "df_new.shape"
   ]
  },
  {
   "cell_type": "code",
   "execution_count": 122,
   "id": "35802e5d",
   "metadata": {},
   "outputs": [
    {
     "name": "stdout",
     "output_type": "stream",
     "text": [
      "Number of data points: 1000\n",
      "Number of Attributes: 20\n"
     ]
    },
    {
     "data": {
      "text/html": [
       "<div>\n",
       "<style scoped>\n",
       "    .dataframe tbody tr th:only-of-type {\n",
       "        vertical-align: middle;\n",
       "    }\n",
       "\n",
       "    .dataframe tbody tr th {\n",
       "        vertical-align: top;\n",
       "    }\n",
       "\n",
       "    .dataframe thead th {\n",
       "        text-align: right;\n",
       "    }\n",
       "</style>\n",
       "<table border=\"1\" class=\"dataframe\">\n",
       "  <thead>\n",
       "    <tr style=\"text-align: right;\">\n",
       "      <th></th>\n",
       "      <th>account_status</th>\n",
       "      <th>duration</th>\n",
       "      <th>credit_history</th>\n",
       "      <th>purpose</th>\n",
       "      <th>credit_amount</th>\n",
       "      <th>savings_account</th>\n",
       "      <th>employment_since</th>\n",
       "      <th>installment_rate</th>\n",
       "      <th>personal_status_sex</th>\n",
       "      <th>guarantors</th>\n",
       "      <th>residence_since</th>\n",
       "      <th>property</th>\n",
       "      <th>age</th>\n",
       "      <th>other_installment_plans</th>\n",
       "      <th>housing</th>\n",
       "      <th>number_of_credits</th>\n",
       "      <th>job</th>\n",
       "      <th>people_to_maintain</th>\n",
       "      <th>phone</th>\n",
       "      <th>foreign_worker</th>\n",
       "    </tr>\n",
       "  </thead>\n",
       "  <tbody>\n",
       "    <tr>\n",
       "      <th>0</th>\n",
       "      <td>A14</td>\n",
       "      <td>36</td>\n",
       "      <td>A32</td>\n",
       "      <td>?</td>\n",
       "      <td>2299</td>\n",
       "      <td>A63</td>\n",
       "      <td>?</td>\n",
       "      <td>4</td>\n",
       "      <td>A93</td>\n",
       "      <td>A101</td>\n",
       "      <td>4</td>\n",
       "      <td>A123</td>\n",
       "      <td>39</td>\n",
       "      <td>A143</td>\n",
       "      <td>A152</td>\n",
       "      <td>1</td>\n",
       "      <td>A173</td>\n",
       "      <td>1</td>\n",
       "      <td>A191</td>\n",
       "      <td>?</td>\n",
       "    </tr>\n",
       "    <tr>\n",
       "      <th>1</th>\n",
       "      <td>A12</td>\n",
       "      <td>18</td>\n",
       "      <td>A32</td>\n",
       "      <td>A46</td>\n",
       "      <td>1239</td>\n",
       "      <td>A65</td>\n",
       "      <td>A73</td>\n",
       "      <td>4</td>\n",
       "      <td>A93</td>\n",
       "      <td>A101</td>\n",
       "      <td>4</td>\n",
       "      <td>A124</td>\n",
       "      <td>61</td>\n",
       "      <td>A143</td>\n",
       "      <td>A153</td>\n",
       "      <td>1</td>\n",
       "      <td>?</td>\n",
       "      <td>1</td>\n",
       "      <td>A191</td>\n",
       "      <td>A201</td>\n",
       "    </tr>\n",
       "    <tr>\n",
       "      <th>2</th>\n",
       "      <td>A13</td>\n",
       "      <td>24</td>\n",
       "      <td>A32</td>\n",
       "      <td>A40</td>\n",
       "      <td>947</td>\n",
       "      <td>A61</td>\n",
       "      <td>A74</td>\n",
       "      <td>4</td>\n",
       "      <td>A93</td>\n",
       "      <td>A101</td>\n",
       "      <td>3</td>\n",
       "      <td>A124</td>\n",
       "      <td>38</td>\n",
       "      <td>A141</td>\n",
       "      <td>A153</td>\n",
       "      <td>1</td>\n",
       "      <td>?</td>\n",
       "      <td>2</td>\n",
       "      <td>A191</td>\n",
       "      <td>?</td>\n",
       "    </tr>\n",
       "    <tr>\n",
       "      <th>3</th>\n",
       "      <td>A14</td>\n",
       "      <td>15</td>\n",
       "      <td>A33</td>\n",
       "      <td>A43</td>\n",
       "      <td>1478</td>\n",
       "      <td>A61</td>\n",
       "      <td>A73</td>\n",
       "      <td>4</td>\n",
       "      <td>A94</td>\n",
       "      <td>A101</td>\n",
       "      <td>3</td>\n",
       "      <td>A121</td>\n",
       "      <td>33</td>\n",
       "      <td>A141</td>\n",
       "      <td>A152</td>\n",
       "      <td>2</td>\n",
       "      <td>A173</td>\n",
       "      <td>1</td>\n",
       "      <td>A191</td>\n",
       "      <td>A201</td>\n",
       "    </tr>\n",
       "    <tr>\n",
       "      <th>4</th>\n",
       "      <td>A14</td>\n",
       "      <td>24</td>\n",
       "      <td>A32</td>\n",
       "      <td>A40</td>\n",
       "      <td>1525</td>\n",
       "      <td>A64</td>\n",
       "      <td>A74</td>\n",
       "      <td>4</td>\n",
       "      <td>A92</td>\n",
       "      <td>A101</td>\n",
       "      <td>3</td>\n",
       "      <td>A123</td>\n",
       "      <td>34</td>\n",
       "      <td>A143</td>\n",
       "      <td>A152</td>\n",
       "      <td>1</td>\n",
       "      <td>A173</td>\n",
       "      <td>2</td>\n",
       "      <td>A192</td>\n",
       "      <td>A201</td>\n",
       "    </tr>\n",
       "    <tr>\n",
       "      <th>5</th>\n",
       "      <td>A12</td>\n",
       "      <td>24</td>\n",
       "      <td>A34</td>\n",
       "      <td>A40</td>\n",
       "      <td>3878</td>\n",
       "      <td>A62</td>\n",
       "      <td>?</td>\n",
       "      <td>4</td>\n",
       "      <td>A91</td>\n",
       "      <td>A101</td>\n",
       "      <td>2</td>\n",
       "      <td>A123</td>\n",
       "      <td>37</td>\n",
       "      <td>A143</td>\n",
       "      <td>A152</td>\n",
       "      <td>1</td>\n",
       "      <td>?</td>\n",
       "      <td>1</td>\n",
       "      <td>A192</td>\n",
       "      <td>A201</td>\n",
       "    </tr>\n",
       "    <tr>\n",
       "      <th>6</th>\n",
       "      <td>A14</td>\n",
       "      <td>24</td>\n",
       "      <td>A32</td>\n",
       "      <td>A41</td>\n",
       "      <td>6313</td>\n",
       "      <td>A65</td>\n",
       "      <td>A75</td>\n",
       "      <td>3</td>\n",
       "      <td>A93</td>\n",
       "      <td>A101</td>\n",
       "      <td>4</td>\n",
       "      <td>A123</td>\n",
       "      <td>41</td>\n",
       "      <td>A143</td>\n",
       "      <td>A152</td>\n",
       "      <td>1</td>\n",
       "      <td>A174</td>\n",
       "      <td>2</td>\n",
       "      <td>A192</td>\n",
       "      <td>A201</td>\n",
       "    </tr>\n",
       "    <tr>\n",
       "      <th>7</th>\n",
       "      <td>A11</td>\n",
       "      <td>21</td>\n",
       "      <td>A33</td>\n",
       "      <td>A46</td>\n",
       "      <td>3414</td>\n",
       "      <td>A61</td>\n",
       "      <td>?</td>\n",
       "      <td>2</td>\n",
       "      <td>A93</td>\n",
       "      <td>A101</td>\n",
       "      <td>1</td>\n",
       "      <td>A122</td>\n",
       "      <td>26</td>\n",
       "      <td>A143</td>\n",
       "      <td>A152</td>\n",
       "      <td>2</td>\n",
       "      <td>A173</td>\n",
       "      <td>1</td>\n",
       "      <td>A191</td>\n",
       "      <td>A201</td>\n",
       "    </tr>\n",
       "    <tr>\n",
       "      <th>8</th>\n",
       "      <td>A11</td>\n",
       "      <td>24</td>\n",
       "      <td>A34</td>\n",
       "      <td>A41</td>\n",
       "      <td>6419</td>\n",
       "      <td>A61</td>\n",
       "      <td>?</td>\n",
       "      <td>2</td>\n",
       "      <td>A92</td>\n",
       "      <td>A101</td>\n",
       "      <td>4</td>\n",
       "      <td>A124</td>\n",
       "      <td>44</td>\n",
       "      <td>A143</td>\n",
       "      <td>A153</td>\n",
       "      <td>2</td>\n",
       "      <td>A174</td>\n",
       "      <td>2</td>\n",
       "      <td>A192</td>\n",
       "      <td>A201</td>\n",
       "    </tr>\n",
       "    <tr>\n",
       "      <th>9</th>\n",
       "      <td>A12</td>\n",
       "      <td>18</td>\n",
       "      <td>A32</td>\n",
       "      <td>?</td>\n",
       "      <td>1924</td>\n",
       "      <td>A65</td>\n",
       "      <td>A72</td>\n",
       "      <td>4</td>\n",
       "      <td>A92</td>\n",
       "      <td>A101</td>\n",
       "      <td>3</td>\n",
       "      <td>A121</td>\n",
       "      <td>27</td>\n",
       "      <td>A143</td>\n",
       "      <td>A151</td>\n",
       "      <td>1</td>\n",
       "      <td>A173</td>\n",
       "      <td>1</td>\n",
       "      <td>A191</td>\n",
       "      <td>?</td>\n",
       "    </tr>\n",
       "  </tbody>\n",
       "</table>\n",
       "</div>"
      ],
      "text/plain": [
       "  account_status  duration credit_history purpose  credit_amount  \\\n",
       "0            A14        36            A32       ?           2299   \n",
       "1            A12        18            A32     A46           1239   \n",
       "2            A13        24            A32     A40            947   \n",
       "3            A14        15            A33     A43           1478   \n",
       "4            A14        24            A32     A40           1525   \n",
       "5            A12        24            A34     A40           3878   \n",
       "6            A14        24            A32     A41           6313   \n",
       "7            A11        21            A33     A46           3414   \n",
       "8            A11        24            A34     A41           6419   \n",
       "9            A12        18            A32       ?           1924   \n",
       "\n",
       "  savings_account employment_since  installment_rate personal_status_sex  \\\n",
       "0             A63                ?                 4                 A93   \n",
       "1             A65              A73                 4                 A93   \n",
       "2             A61              A74                 4                 A93   \n",
       "3             A61              A73                 4                 A94   \n",
       "4             A64              A74                 4                 A92   \n",
       "5             A62                ?                 4                 A91   \n",
       "6             A65              A75                 3                 A93   \n",
       "7             A61                ?                 2                 A93   \n",
       "8             A61                ?                 2                 A92   \n",
       "9             A65              A72                 4                 A92   \n",
       "\n",
       "  guarantors  residence_since property  age other_installment_plans housing  \\\n",
       "0       A101                4     A123   39                    A143    A152   \n",
       "1       A101                4     A124   61                    A143    A153   \n",
       "2       A101                3     A124   38                    A141    A153   \n",
       "3       A101                3     A121   33                    A141    A152   \n",
       "4       A101                3     A123   34                    A143    A152   \n",
       "5       A101                2     A123   37                    A143    A152   \n",
       "6       A101                4     A123   41                    A143    A152   \n",
       "7       A101                1     A122   26                    A143    A152   \n",
       "8       A101                4     A124   44                    A143    A153   \n",
       "9       A101                3     A121   27                    A143    A151   \n",
       "\n",
       "   number_of_credits   job  people_to_maintain phone foreign_worker  \n",
       "0                  1  A173                   1  A191              ?  \n",
       "1                  1     ?                   1  A191           A201  \n",
       "2                  1     ?                   2  A191              ?  \n",
       "3                  2  A173                   1  A191           A201  \n",
       "4                  1  A173                   2  A192           A201  \n",
       "5                  1     ?                   1  A192           A201  \n",
       "6                  1  A174                   2  A192           A201  \n",
       "7                  2  A173                   1  A191           A201  \n",
       "8                  2  A174                   2  A192           A201  \n",
       "9                  1  A173                   1  A191              ?  "
      ]
     },
     "execution_count": 122,
     "metadata": {},
     "output_type": "execute_result"
    }
   ],
   "source": [
    "print(f'Number of data points: {df_new.shape[0]}')\n",
    "print(f'Number of Attributes: {df_new.shape[1]}')\n",
    "df_new.head(10)"
   ]
  },
  {
   "cell_type": "code",
   "execution_count": 123,
   "id": "33a676a7",
   "metadata": {},
   "outputs": [],
   "source": [
    "#Change the 'phone' and 'foreign_worker' coloum values into numeric one\n",
    "#Telephone: A191: none; A192: yes, registered under the customers name\n",
    "#Foreign worker: A201: yes; A202: no\n",
    "\n",
    "df_new.replace('A201', 1, inplace=True)\n",
    "df_new.replace('A202', 0, inplace=True)\n",
    "df_new.replace('A191', 0, inplace=True)\n",
    "df_new.replace('A192', 1, inplace=True)"
   ]
  },
  {
   "cell_type": "markdown",
   "id": "9545b84f",
   "metadata": {},
   "source": [
    "# Handle Missing Values"
   ]
  },
  {
   "cell_type": "code",
   "execution_count": 124,
   "id": "7f370499",
   "metadata": {},
   "outputs": [],
   "source": [
    "# For more convenient operations for missing values, replace ? with NaN\n",
    "# As there are too many missing values to remove these points from the dataset\n",
    "df_new.replace(\"?\", np.nan, inplace=True)"
   ]
  },
  {
   "cell_type": "code",
   "execution_count": 125,
   "id": "39a402d2",
   "metadata": {},
   "outputs": [
    {
     "name": "stdout",
     "output_type": "stream",
     "text": [
      "Number of Missing Values:\n",
      "\n",
      "account_status               0\n",
      "duration                     0\n",
      "credit_history               0\n",
      "purpose                    173\n",
      "credit_amount                0\n",
      "savings_account              0\n",
      "employment_since           496\n",
      "installment_rate             0\n",
      "personal_status_sex          0\n",
      "guarantors                   0\n",
      "residence_since              0\n",
      "property                     0\n",
      "age                          0\n",
      "other_installment_plans      0\n",
      "housing                      0\n",
      "number_of_credits            0\n",
      "job                        232\n",
      "people_to_maintain           0\n",
      "phone                        0\n",
      "foreign_worker             360\n",
      "dtype: int64\n"
     ]
    }
   ],
   "source": [
    "print(f'Number of Missing Values:\\n\\n{df_new.isnull().sum()}')"
   ]
  },
  {
   "cell_type": "code",
   "execution_count": 126,
   "id": "ab0929fb",
   "metadata": {},
   "outputs": [
    {
     "name": "stdout",
     "output_type": "stream",
     "text": [
      "Without omiting the missing values columns (1000, 20)\n",
      "Omiting the missing values columns (1000, 16)\n"
     ]
    }
   ],
   "source": [
    "print(f'Without omiting the missing values columns {df_new.shape}')\n",
    "\n",
    "# Collect the missing columns\n",
    "missing_columns = ['purpose', 'employment_since', 'job', 'foreign_worker']\n",
    "\n",
    "# create df with features that are fully available; delete the column with contains Null values\n",
    "df_new = df_new.dropna(axis=1, how='any')\n",
    "\n",
    "print(f'Omiting the missing values columns {df_new.shape}')"
   ]
  },
  {
   "cell_type": "code",
   "execution_count": 127,
   "id": "9e167f7a",
   "metadata": {},
   "outputs": [
    {
     "data": {
      "text/plain": [
       "purpose             0.0\n",
       "employment_since    0.0\n",
       "job                 0.0\n",
       "foreign_worker      0.0\n",
       "dtype: float64"
      ]
     },
     "execution_count": 127,
     "metadata": {},
     "output_type": "execute_result"
    }
   ],
   "source": [
    "# Percentage of missing values\n",
    "df[missing_columns].isnull().sum()/len(df) * 100"
   ]
  },
  {
   "cell_type": "code",
   "execution_count": 128,
   "id": "c7298641",
   "metadata": {},
   "outputs": [
    {
     "name": "stdout",
     "output_type": "stream",
     "text": [
      "Number of Missing Values:\n",
      "\n",
      "account_status             0\n",
      "duration                   0\n",
      "credit_history             0\n",
      "credit_amount              0\n",
      "savings_account            0\n",
      "installment_rate           0\n",
      "personal_status_sex        0\n",
      "guarantors                 0\n",
      "residence_since            0\n",
      "property                   0\n",
      "age                        0\n",
      "other_installment_plans    0\n",
      "housing                    0\n",
      "number_of_credits          0\n",
      "people_to_maintain         0\n",
      "phone                      0\n",
      "dtype: int64\n"
     ]
    }
   ],
   "source": [
    "print(f'Number of Missing Values:\\n\\n{df_new.isnull().sum()}')"
   ]
  },
  {
   "cell_type": "markdown",
   "id": "140a44c7",
   "metadata": {},
   "source": [
    "# Visualize data"
   ]
  },
  {
   "cell_type": "code",
   "execution_count": 129,
   "id": "dd27d8fb",
   "metadata": {},
   "outputs": [
    {
     "data": {
      "text/plain": [
       "1    136\n",
       "3    157\n",
       "2    231\n",
       "4    476\n",
       "Name: installment_rate, dtype: int64"
      ]
     },
     "execution_count": 129,
     "metadata": {},
     "output_type": "execute_result"
    }
   ],
   "source": [
    "df['installment_rate'].value_counts(ascending=True)"
   ]
  },
  {
   "cell_type": "code",
   "execution_count": 130,
   "id": "3aa878bf",
   "metadata": {},
   "outputs": [
    {
     "name": "stdout",
     "output_type": "stream",
     "text": [
      "[[<AxesSubplot:title={'center':'duration'}>\n",
      "  <AxesSubplot:title={'center':'credit_amount'}>\n",
      "  <AxesSubplot:title={'center':'installment_rate'}>]\n",
      " [<AxesSubplot:title={'center':'residence_since'}>\n",
      "  <AxesSubplot:title={'center':'age'}>\n",
      "  <AxesSubplot:title={'center':'number_of_credits'}>]\n",
      " [<AxesSubplot:title={'center':'people_to_maintain'}>\n",
      "  <AxesSubplot:title={'center':'creditworthy'}> <AxesSubplot:>]]\n"
     ]
    },
    {
     "data": {
      "image/png": "[encoded data removed]",
      "text/plain": [
       "<Figure size 720x936 with 9 Axes>"
      ]
     },
     "metadata": {
      "needs_background": "light"
     },
     "output_type": "display_data"
    }
   ],
   "source": [
    "print(df.hist(figsize = (10,13)))"
   ]
  },
  {
   "cell_type": "code",
   "execution_count": 131,
   "id": "e2d8c816",
   "metadata": {},
   "outputs": [
    {
     "name": "stdout",
     "output_type": "stream",
     "text": [
      "A93    548\n",
      "A92    310\n",
      "A94     92\n",
      "A91     50\n",
      "Name: personal_status_sex, dtype: int64\n"
     ]
    },
    {
     "data": {
      "image/png": "[encoded data removed]",
      "text/plain": [
       "<Figure size 720x288 with 1 Axes>"
      ]
     },
     "metadata": {
      "needs_background": "light"
     },
     "output_type": "display_data"
    }
   ],
   "source": [
    "print(df['personal_status_sex'].value_counts())\n",
    "\n",
    "fig, ax = plt.subplots(figsize=(10,4))\n",
    "df['personal_status_sex'].value_counts().plot(kind='bar')\n",
    "plt.show()\n",
    "# A91: male: divorced/separated A92: female: divorced/separated/married\n",
    "# A93: male: single # A94: male: married/widowed"
   ]
  },
  {
   "cell_type": "code",
   "execution_count": 132,
   "id": "3e635122",
   "metadata": {},
   "outputs": [
    {
     "data": {
      "text/plain": [
       "residence_since  creditworthy\n",
       "1                1                94\n",
       "                 0                36\n",
       "2                1               211\n",
       "                 0                97\n",
       "3                1               106\n",
       "                 0                43\n",
       "4                1               289\n",
       "                 0               124\n",
       "Name: creditworthy, dtype: int64"
      ]
     },
     "execution_count": 132,
     "metadata": {},
     "output_type": "execute_result"
    }
   ],
   "source": [
    "df.groupby(['residence_since'])['creditworthy'].value_counts()"
   ]
  },
  {
   "cell_type": "code",
   "execution_count": 133,
   "id": "d44a7e51",
   "metadata": {},
   "outputs": [
    {
     "data": {
      "image/png": "[encoded data removed]",
      "text/plain": [
       "<Figure size 936x432 with 3 Axes>"
      ]
     },
     "metadata": {
      "needs_background": "light"
     },
     "output_type": "display_data"
    }
   ],
   "source": [
    "_, axes = plt.subplots(1, 3, figsize=(13,6))\n",
    "\n",
    "sns.countplot(x='creditworthy', hue='residence_since', data=df, ax=axes[0]);\n",
    "sns.countplot(x='creditworthy', hue='credit_history', data=df, ax=axes[1]);\n",
    "sns.countplot(x='creditworthy', hue='personal_status_sex', data=df, ax=axes[2]);\n",
    "plt.tight_layout()"
   ]
  },
  {
   "cell_type": "markdown",
   "id": "2d6f1b51",
   "metadata": {},
   "source": [
    "# Categorical"
   ]
  },
  {
   "cell_type": "code",
   "execution_count": 134,
   "id": "61d25208",
   "metadata": {},
   "outputs": [
    {
     "name": "stdout",
     "output_type": "stream",
     "text": [
      "Categorical features:\n",
      "['account_status', 'credit_history', 'purpose', 'savings_account', 'employment_since', 'personal_status_sex', 'guarantors', 'property', 'other_installment_plans', 'housing', 'job', 'phone', 'foreign_worker']\n",
      "\n",
      "Numerical features:\n",
      "['duration', 'credit_amount', 'installment_rate', 'residence_since', 'age', 'number_of_credits', 'people_to_maintain', 'creditworthy']\n"
     ]
    }
   ],
   "source": [
    "def categorical_numerical_split(df):\n",
    "    categorical = [att for att in df.columns if df[att].dtype == 'object']\n",
    "    numerical = [att for att in df.columns if df[att].dtype == 'int64']\n",
    "    return categorical, numerical\n",
    "\n",
    "categorical, numerical = categorical_numerical_split(df)\n",
    "\n",
    "print(f'Categorical features:\\n{categorical}\\n')\n",
    "print(f'Numerical features:\\n{numerical}')"
   ]
  },
  {
   "cell_type": "code",
   "execution_count": 135,
   "id": "f9f5bc43",
   "metadata": {},
   "outputs": [
    {
     "data": {
      "text/plain": [
       "account_status              4\n",
       "credit_history              5\n",
       "purpose                    11\n",
       "savings_account             5\n",
       "employment_since            6\n",
       "personal_status_sex         4\n",
       "guarantors                  3\n",
       "property                    4\n",
       "other_installment_plans     3\n",
       "housing                     3\n",
       "job                         5\n",
       "phone                       2\n",
       "foreign_worker              3\n",
       "dtype: int64"
      ]
     },
     "execution_count": 135,
     "metadata": {},
     "output_type": "execute_result"
    }
   ],
   "source": [
    "# return number of unique elements in the object\n",
    "\n",
    "df[categorical].nunique()"
   ]
  },
  {
   "cell_type": "code",
   "execution_count": 136,
   "id": "721d964f",
   "metadata": {},
   "outputs": [
    {
     "name": "stdout",
     "output_type": "stream",
     "text": [
      "Unique categorical values:\n",
      "account_status : ['A14' 'A12' 'A13' 'A11']\n",
      "credit_history : ['A32' 'A33' 'A34' 'A30' 'A31']\n",
      "purpose : ['?' 'A46' 'A40' 'A43' 'A41' 'A42' 'A49' 'A410' 'A45' 'A48' 'A44']\n",
      "savings_account : ['A63' 'A65' 'A61' 'A64' 'A62']\n",
      "employment_since : ['?' 'A73' 'A74' 'A75' 'A72' 'A71']\n",
      "personal_status_sex : ['A93' 'A94' 'A92' 'A91']\n",
      "guarantors : ['A101' 'A102' 'A103']\n",
      "property : ['A123' 'A124' 'A121' 'A122']\n",
      "other_installment_plans : ['A143' 'A141' 'A142']\n",
      "housing : ['A152' 'A153' 'A151']\n",
      "job : ['A173' '?' 'A174' 'A172' 'A171']\n",
      "phone : ['A191' 'A192']\n",
      "foreign_worker : ['?' 'A201' 'A202']\n"
     ]
    }
   ],
   "source": [
    "# Feature representation\n",
    "\n",
    "print(\"Unique categorical values:\")\n",
    "for att in df.select_dtypes(include=[object]):\n",
    "    print(att,\":\", df[att].unique())"
   ]
  },
  {
   "cell_type": "markdown",
   "id": "9e93ed2a",
   "metadata": {},
   "source": [
    "<b><h2>Encodes nominal features to numeric features</h2></b>\n",
    "\n",
    "Many machine learning algorithms cannot operate on label data directly. They require all input variables and output variables to be numeric.<br>\n",
    "\n",
    "return: data frame with all-numeric features"
   ]
  },
  {
   "cell_type": "code",
   "execution_count": 137,
   "id": "18c3e211",
   "metadata": {},
   "outputs": [],
   "source": [
    "def str_to_num(df):\n",
    "    # create a new df with categorical features only, encoded as numbers\n",
    "    categorical, numerical = categorical_numerical_split(df)\n",
    "    \n",
    "    enc = LabelEncoder()\n",
    "    df_encoded = df[categorical].apply(lambda x: enc.fit_transform(x))\n",
    "\n",
    "    df_encoded_concat = pd.concat([df_encoded, df[numerical]], axis=1)\n",
    "    \n",
    "    # Create a dict to decode numeric values; returns a dictionary-like object\n",
    "    d = defaultdict()\n",
    "    \n",
    "    for col_name in df[categorical]:\n",
    "        # e.g.: account_status_A14 :  3\n",
    "        for unique_str_val, unique_num_val in zip(df[col_name].unique(), df_encoded[col_name].unique()):\n",
    "                d[col_name + '_' + unique_str_val] = unique_num_val            \n",
    "    \n",
    "    return df_encoded_concat , d"
   ]
  },
  {
   "cell_type": "code",
   "execution_count": 138,
   "id": "de32e5e2",
   "metadata": {},
   "outputs": [
    {
     "name": "stdout",
     "output_type": "stream",
     "text": [
      "account_status_A14 :  3\n",
      "account_status_A12 :  1\n",
      "account_status_A13 :  2\n",
      "account_status_A11 :  0\n",
      "credit_history_A32 :  2\n",
      "credit_history_A33 :  3\n",
      "credit_history_A34 :  4\n",
      "credit_history_A30 :  0\n",
      "credit_history_A31 :  1\n",
      "savings_account_A63 :  2\n",
      "savings_account_A65 :  4\n",
      "savings_account_A61 :  0\n",
      "savings_account_A64 :  3\n",
      "savings_account_A62 :  1\n",
      "personal_status_sex_A93 :  2\n",
      "personal_status_sex_A94 :  3\n",
      "personal_status_sex_A92 :  1\n",
      "personal_status_sex_A91 :  0\n",
      "guarantors_A101 :  0\n",
      "guarantors_A102 :  1\n",
      "guarantors_A103 :  2\n",
      "property_A123 :  2\n",
      "property_A124 :  3\n",
      "property_A121 :  0\n",
      "property_A122 :  1\n",
      "other_installment_plans_A143 :  2\n",
      "other_installment_plans_A141 :  0\n",
      "other_installment_plans_A142 :  1\n",
      "housing_A152 :  1\n",
      "housing_A153 :  2\n",
      "housing_A151 :  0\n"
     ]
    }
   ],
   "source": [
    "df_new_enc, df_new_enc_dict = str_to_num(df_new)\n",
    "\n",
    "# Print out new numericaly encoded features\n",
    "for k,v in df_new_enc_dict.items():\n",
    "    print(k, ': ', v)"
   ]
  },
  {
   "cell_type": "code",
   "execution_count": 139,
   "id": "ceb6c2f2",
   "metadata": {},
   "outputs": [
    {
     "name": "stdout",
     "output_type": "stream",
     "text": [
      "(1000, 16)\n"
     ]
    }
   ],
   "source": [
    "# Make sure there are still 16 feature\n",
    "print(df_new_enc.shape)"
   ]
  },
  {
   "cell_type": "markdown",
   "id": "a35c1199",
   "metadata": {},
   "source": [
    "For categorical variables where no such ordinal relationship exists, a one-hot encoding can be applied to the integer representation. \n",
    "\n",
    "<b> One-Hot Encoding: </b> The integer encoded variable is removed and a new binary variable is added for each unique integer value.\n",
    "\n",
    "<b>df:</b> dataframe\n",
    "\n",
    "<b>to_one_hot:</b> list of columns to encode \n",
    "\n",
    "<b>return:</b> encoded df"
   ]
  },
  {
   "cell_type": "code",
   "execution_count": 140,
   "id": "f51dc435",
   "metadata": {},
   "outputs": [],
   "source": [
    "def to_one_hot(df, verbose=False):\n",
    "    categorical, numerical = categorical_numerical_split(df)\n",
    "    \n",
    "    # 1-hot encoding for the categorical variables\n",
    "    df_only_one_hot = pd.get_dummies(df[categorical])\n",
    "    \n",
    "    if verbose == True:\n",
    "        print(f'new 1-hot-encoded variables:\\n {list(df_only_one_hot.columns)}')\n",
    "    \n",
    "    # Concatenate numerical and categorical data\n",
    "    df_new_onehot = pd.concat([df[numerical], df_only_one_hot], axis = 1)\n",
    "    \n",
    "    if verbose == True:\n",
    "        print(f'Shape: {df_new_onehot.shape}')\n",
    "        df_new_onehot.head()\n",
    "    \n",
    "    return df_new_onehot"
   ]
  },
  {
   "cell_type": "code",
   "execution_count": 141,
   "id": "285c76e8",
   "metadata": {},
   "outputs": [
    {
     "name": "stdout",
     "output_type": "stream",
     "text": [
      "new 1-hot-encoded variables:\n",
      " ['account_status_A11', 'account_status_A12', 'account_status_A13', 'account_status_A14', 'credit_history_A30', 'credit_history_A31', 'credit_history_A32', 'credit_history_A33', 'credit_history_A34', 'savings_account_A61', 'savings_account_A62', 'savings_account_A63', 'savings_account_A64', 'savings_account_A65', 'personal_status_sex_A91', 'personal_status_sex_A92', 'personal_status_sex_A93', 'personal_status_sex_A94', 'guarantors_A101', 'guarantors_A102', 'guarantors_A103', 'property_A121', 'property_A122', 'property_A123', 'property_A124', 'other_installment_plans_A141', 'other_installment_plans_A142', 'other_installment_plans_A143', 'housing_A151', 'housing_A152', 'housing_A153']\n",
      "Shape: (1000, 39)\n"
     ]
    }
   ],
   "source": [
    "# Fatures that shoud be encoded for X_train\n",
    "df_new_onehot = to_one_hot(df_new, verbose=True)"
   ]
  },
  {
   "cell_type": "code",
   "execution_count": 142,
   "id": "cf2ee57d",
   "metadata": {},
   "outputs": [
    {
     "name": "stdout",
     "output_type": "stream",
     "text": [
      "<class 'pandas.core.frame.DataFrame'>\n",
      "RangeIndex: 1000 entries, 0 to 999\n",
      "Data columns (total 39 columns):\n",
      " #   Column                        Non-Null Count  Dtype\n",
      "---  ------                        --------------  -----\n",
      " 0   duration                      1000 non-null   int64\n",
      " 1   credit_amount                 1000 non-null   int64\n",
      " 2   installment_rate              1000 non-null   int64\n",
      " 3   residence_since               1000 non-null   int64\n",
      " 4   age                           1000 non-null   int64\n",
      " 5   number_of_credits             1000 non-null   int64\n",
      " 6   people_to_maintain            1000 non-null   int64\n",
      " 7   phone                         1000 non-null   int64\n",
      " 8   account_status_A11            1000 non-null   uint8\n",
      " 9   account_status_A12            1000 non-null   uint8\n",
      " 10  account_status_A13            1000 non-null   uint8\n",
      " 11  account_status_A14            1000 non-null   uint8\n",
      " 12  credit_history_A30            1000 non-null   uint8\n",
      " 13  credit_history_A31            1000 non-null   uint8\n",
      " 14  credit_history_A32            1000 non-null   uint8\n",
      " 15  credit_history_A33            1000 non-null   uint8\n",
      " 16  credit_history_A34            1000 non-null   uint8\n",
      " 17  savings_account_A61           1000 non-null   uint8\n",
      " 18  savings_account_A62           1000 non-null   uint8\n",
      " 19  savings_account_A63           1000 non-null   uint8\n",
      " 20  savings_account_A64           1000 non-null   uint8\n",
      " 21  savings_account_A65           1000 non-null   uint8\n",
      " 22  personal_status_sex_A91       1000 non-null   uint8\n",
      " 23  personal_status_sex_A92       1000 non-null   uint8\n",
      " 24  personal_status_sex_A93       1000 non-null   uint8\n",
      " 25  personal_status_sex_A94       1000 non-null   uint8\n",
      " 26  guarantors_A101               1000 non-null   uint8\n",
      " 27  guarantors_A102               1000 non-null   uint8\n",
      " 28  guarantors_A103               1000 non-null   uint8\n",
      " 29  property_A121                 1000 non-null   uint8\n",
      " 30  property_A122                 1000 non-null   uint8\n",
      " 31  property_A123                 1000 non-null   uint8\n",
      " 32  property_A124                 1000 non-null   uint8\n",
      " 33  other_installment_plans_A141  1000 non-null   uint8\n",
      " 34  other_installment_plans_A142  1000 non-null   uint8\n",
      " 35  other_installment_plans_A143  1000 non-null   uint8\n",
      " 36  housing_A151                  1000 non-null   uint8\n",
      " 37  housing_A152                  1000 non-null   uint8\n",
      " 38  housing_A153                  1000 non-null   uint8\n",
      "dtypes: int64(8), uint8(31)\n",
      "memory usage: 92.9 KB\n"
     ]
    }
   ],
   "source": [
    "df_new_onehot.info()"
   ]
  },
  {
   "cell_type": "markdown",
   "id": "33991f90",
   "metadata": {},
   "source": [
    "# Check the balanced of the dataset"
   ]
  },
  {
   "cell_type": "code",
   "execution_count": 143,
   "id": "0a4d2ce1",
   "metadata": {},
   "outputs": [
    {
     "name": "stdout",
     "output_type": "stream",
     "text": [
      "1    700\n",
      "0    300\n",
      "Name: creditworthy, dtype: int64\n"
     ]
    },
    {
     "data": {
      "text/plain": [
       "<AxesSubplot:>"
      ]
     },
     "execution_count": 143,
     "metadata": {},
     "output_type": "execute_result"
    },
    {
     "data": {
      "image/png": "[encoded data removed]",
      "text/plain": [
       "<Figure size 432x288 with 1 Axes>"
      ]
     },
     "metadata": {
      "needs_background": "light"
     },
     "output_type": "display_data"
    }
   ],
   "source": [
    "print(label.value_counts())\n",
    "\n",
    "label.value_counts().plot(kind='bar', label= 'Target Values')"
   ]
  },
  {
   "cell_type": "markdown",
   "id": "75cfadf5",
   "metadata": {},
   "source": [
    "1 = good, trustworthy\n",
    "\n",
    "0 = bad, Not trustworthy\n",
    "\n",
    "There are more than twice as many creditworthy examples"
   ]
  },
  {
   "cell_type": "markdown",
   "id": "78516271",
   "metadata": {},
   "source": [
    "A problem with imbalanced classification is that there are too few examples of the minority class for a model to effectively learn the decision boundary. One way to solve this problem is to oversample the examples in the minority class.\n",
    "\n",
    "The most common technique is called <b>SMOTE (Synthetic Minority Over-sampling Technique).</b>\n",
    "In simple terms, it looks at the feature space for the minority class data points\n",
    "and considers its k nearest neighbours."
   ]
  },
  {
   "cell_type": "code",
   "execution_count": 144,
   "id": "fd921936",
   "metadata": {},
   "outputs": [],
   "source": [
    "def balance_data(df,label):\n",
    "    sm = SMOTE(random_state=7)\n",
    "\n",
    "    # Fit the model to generate the data.\n",
    "    cols = df.columns\n",
    "    df, label = sm.fit_resample(df, label)\n",
    "    df = pd.DataFrame(df)\n",
    "    label = pd.Series(label)\n",
    "\n",
    "    df.columns = cols\n",
    "    return df,label"
   ]
  },
  {
   "cell_type": "code",
   "execution_count": 145,
   "id": "e25007e6",
   "metadata": {},
   "outputs": [
    {
     "name": "stdout",
     "output_type": "stream",
     "text": [
      "0    700\n",
      "1    700\n",
      "Name: creditworthy, dtype: int64\n"
     ]
    },
    {
     "data": {
      "text/plain": [
       "<AxesSubplot:>"
      ]
     },
     "execution_count": 145,
     "metadata": {},
     "output_type": "execute_result"
    },
    {
     "data": {
      "image/png": "[encoded data removed]",
      "text/plain": [
       "<Figure size 432x288 with 1 Axes>"
      ]
     },
     "metadata": {
      "needs_background": "light"
     },
     "output_type": "display_data"
    }
   ],
   "source": [
    "label_orig = label\n",
    "df_new_enc, label_enc = balance_data(df_new_enc,label_orig)\n",
    "df_new_onehot, label_onehot = balance_data(df_new_onehot, label_orig)\n",
    "\n",
    "print(label_enc.value_counts())\n",
    "\n",
    "label_enc.value_counts().plot(kind='bar', label= 'Target Values')"
   ]
  },
  {
   "cell_type": "markdown",
   "id": "a0c5aaa1",
   "metadata": {},
   "source": [
    "1 = good, trustworthy\n",
    "\n",
    "0 = bad, Not trustworthy"
   ]
  },
  {
   "cell_type": "code",
   "execution_count": 150,
   "id": "7d7feec7",
   "metadata": {},
   "outputs": [
    {
     "name": "stdout",
     "output_type": "stream",
     "text": [
      "<class 'pandas.core.frame.DataFrame'>\n",
      "RangeIndex: 1400 entries, 0 to 1399\n",
      "Data columns (total 16 columns):\n",
      " #   Column                   Non-Null Count  Dtype\n",
      "---  ------                   --------------  -----\n",
      " 0   account_status           1400 non-null   int32\n",
      " 1   credit_history           1400 non-null   int32\n",
      " 2   savings_account          1400 non-null   int32\n",
      " 3   personal_status_sex      1400 non-null   int32\n",
      " 4   guarantors               1400 non-null   int32\n",
      " 5   property                 1400 non-null   int32\n",
      " 6   other_installment_plans  1400 non-null   int32\n",
      " 7   housing                  1400 non-null   int32\n",
      " 8   duration                 1400 non-null   int64\n",
      " 9   credit_amount            1400 non-null   int64\n",
      " 10  installment_rate         1400 non-null   int64\n",
      " 11  residence_since          1400 non-null   int64\n",
      " 12  age                      1400 non-null   int64\n",
      " 13  number_of_credits        1400 non-null   int64\n",
      " 14  people_to_maintain       1400 non-null   int64\n",
      " 15  phone                    1400 non-null   int64\n",
      "dtypes: int32(8), int64(8)\n",
      "memory usage: 131.4 KB\n"
     ]
    }
   ],
   "source": [
    "df_new_enc.info()"
   ]
  },
  {
   "cell_type": "code",
   "execution_count": 151,
   "id": "59e425f4",
   "metadata": {},
   "outputs": [
    {
     "name": "stdout",
     "output_type": "stream",
     "text": [
      "(1400, 39)\n"
     ]
    },
    {
     "data": {
      "text/plain": [
       "<AxesSubplot:>"
      ]
     },
     "execution_count": 151,
     "metadata": {},
     "output_type": "execute_result"
    },
    {
     "data": {
      "image/png": "[encoded data removed]",
      "text/plain": [
       "<Figure size 432x288 with 1 Axes>"
      ]
     },
     "metadata": {
      "needs_background": "light"
     },
     "output_type": "display_data"
    }
   ],
   "source": [
    "print(df_new_onehot.shape)\n",
    "\n",
    "label_onehot.value_counts().plot(kind='bar', label= 'Target Values')"
   ]
  },
  {
   "cell_type": "markdown",
   "id": "3bc7b286",
   "metadata": {},
   "source": [
    "1 = good, trustworthy\n",
    "\n",
    "0 = bad, Not trustworthy"
   ]
  },
  {
   "cell_type": "markdown",
   "id": "79b8811d",
   "metadata": {},
   "source": [
    "# Evaluation Functions"
   ]
  },
  {
   "cell_type": "code",
   "execution_count": 152,
   "id": "fa0235d9",
   "metadata": {},
   "outputs": [],
   "source": [
    "#10-fold Cross Validation on training and validation data\n",
    "def cross_validate(clf, X_train, y_train, metrics=['precision', 'accuracy']):\n",
    "    for metric in metrics: \n",
    "        scores = cross_val_score(clf, X_train, y_train, cv=10, scoring=metric)\n",
    "        \n",
    "        # The mean score and standard deviation of the score estimate\n",
    "        print(\"Cross Validation %s: %0.2f (+/- %0.2f)\" % (\n",
    "            metric, scores.mean(), scores.std()))\n",
    "    \n",
    "    return \n",
    "\n",
    "#Fits classifier\n",
    "def train(clf, X_train, y_train):\n",
    "    print(f'Training a {clf.__class__.__name__}')\n",
    "    print(f'with a training set size of {len(X_train)}')\n",
    "    clf.fit(X_train, y_train)\n",
    "    return clf\n",
    "\n",
    "#Predict on unseen test data\n",
    "def predict(clf, X_test):    \n",
    "    y_pred = clf.predict(X_test)\n",
    "    return y_pred\n",
    "\n",
    "\n",
    "#Evaluate on Precision and Accuracy\n",
    "def evaluate_test(y_test, y_pred):\n",
    "    print(f'Test Precision Score: {precision_score(y_test, y_pred)}')\n",
    "    print(f'Test Recall Score: {recall_score(y_test, y_pred)}')\n",
    "    print(f'Test Accuracy Score: {accuracy_score(y_test, y_pred)}')   \n",
    "    print(f'Test F1-score Score: {f1_score(y_test, y_pred)}')\n",
    "    \n",
    "    tn, fp, fn, tp = confusion_matrix(y_test, y_pred).ravel()\n",
    "    print(f'Test Confusion Matrix: \\n {confusion_matrix(y_test, y_pred)}')\n",
    "    print(f'Number of False Positives: {fp}')\n",
    "    \n",
    "    return \n",
    "\n",
    "def train_predict(clf, X_train, y_train, X_test, y_test=None):\n",
    "    # Train the classifier\n",
    "    clf = train(clf, X_train, y_train)\n",
    "    \n",
    "    # Predict labes\n",
    "    y_pred = predict(clf, X_test)\n",
    "    \n",
    "    return y_pred"
   ]
  },
  {
   "cell_type": "markdown",
   "id": "4d8d1e26",
   "metadata": {},
   "source": [
    "# Random Forest"
   ]
  },
  {
   "cell_type": "code",
   "execution_count": 176,
   "id": "9583b819",
   "metadata": {},
   "outputs": [
    {
     "name": "stdout",
     "output_type": "stream",
     "text": [
      "\n",
      " Numerically Encoded Features: \n",
      "(1400, 16)\n",
      "Training a RandomForestClassifier\n",
      "with a training set size of 1050\n",
      "Test Precision Score: 0.8268156424581006\n",
      "Test Recall Score: 0.8176795580110497\n",
      "Test Accuracy Score: 0.8171428571428572\n",
      "Test F1-score Score: 0.8222222222222223\n",
      "Test Confusion Matrix: \n",
      " [[138  31]\n",
      " [ 33 148]]\n",
      "Number of False Positives: 31\n",
      "\n",
      " One-hot Encoded Features\n",
      "(1400, 39)\n",
      "Training a RandomForestClassifier\n",
      "with a training set size of 1050\n",
      "Test Precision Score: 0.8369565217391305\n",
      "Test Recall Score: 0.850828729281768\n",
      "Test Accuracy Score: 0.8371428571428572\n",
      "Test F1-score Score: 0.8438356164383561\n",
      "Test Confusion Matrix: \n",
      " [[139  30]\n",
      " [ 27 154]]\n",
      "Number of False Positives: 30\n"
     ]
    }
   ],
   "source": [
    "df_news = [df_new_enc, df_new_onehot]\n",
    "labels = [label_enc, label_onehot]\n",
    "names = ['Numerically Encoded Features: ', 'One-hot Encoded Features']\n",
    "\n",
    "for df_new_encoded, lab, name in zip(df_news, labels, names):\n",
    "    print('\\n',name)\n",
    "    print(df_new_encoded.shape)\n",
    "    \n",
    "    # Spliting X and y into train and test version\n",
    "    X_train, X_test, y_train, y_test = train_test_split(df_new_encoded, lab, test_size = 0.25, random_state=4)\n",
    "\n",
    "    clf = RandomForestClassifier(n_estimators=100, random_state=33)\n",
    "    y_pred = train_predict(clf, X_train, y_train, X_test, y_test)\n",
    "    evaluate_test(y_test, y_pred)"
   ]
  },
  {
   "cell_type": "code",
   "execution_count": 177,
   "id": "7c67e836",
   "metadata": {},
   "outputs": [],
   "source": [
    "X_train, X_test, y_train, y_test = train_test_split(df_new_enc, label_enc, test_size = 0.25)\n",
    "\n",
    "train_accuracies = []\n",
    "test_accuracies = []\n",
    "\n",
    "for i in range(1,50):\n",
    "    clf = RandomForestClassifier(n_estimators=i, max_depth=i)\n",
    "    clf.fit(X_train, y_train)\n",
    "    score_train = clf.score(X_train,y_train)\n",
    "    score_test = clf.score(X_test,y_test)\n",
    "    train_accuracies.append(score_train)\n",
    "    test_accuracies.append(score_test)"
   ]
  },
  {
   "cell_type": "code",
   "execution_count": 178,
   "id": "fcf0efb3",
   "metadata": {},
   "outputs": [
    {
     "data": {
      "image/png": "[encoded data removed]",
      "text/plain": [
       "<Figure size 432x288 with 1 Axes>"
      ]
     },
     "metadata": {
      "needs_background": "light"
     },
     "output_type": "display_data"
    }
   ],
   "source": [
    "plt.plot(train_accuracies, label='train accuracy')\n",
    "plt.plot(test_accuracies, label='test accuracy')\n",
    "plt.legend()\n",
    "plt.show()"
   ]
  },
  {
   "cell_type": "code",
   "execution_count": 179,
   "id": "e37932eb",
   "metadata": {},
   "outputs": [],
   "source": [
    "X_train, X_test, y_train, y_test = train_test_split(df_new_onehot, label_onehot, test_size = 0.25)\n",
    "\n",
    "train_accuracies = []\n",
    "test_accuracies = []\n",
    "\n",
    "for i in range(1,50):\n",
    "    clf = RandomForestClassifier(n_estimators=i, max_depth=i)\n",
    "    clf.fit(X_train, y_train)\n",
    "    score_train = clf.score(X_train,y_train)\n",
    "    score_test = clf.score(X_test,y_test)\n",
    "    train_accuracies.append(score_train)\n",
    "    test_accuracies.append(score_test)"
   ]
  },
  {
   "cell_type": "code",
   "execution_count": 180,
   "id": "41feb8b0",
   "metadata": {},
   "outputs": [
    {
     "data": {
      "image/png": "[encoded data removed]",
      "text/plain": [
       "<Figure size 432x288 with 1 Axes>"
      ]
     },
     "metadata": {
      "needs_background": "light"
     },
     "output_type": "display_data"
    }
   ],
   "source": [
    "plt.plot(train_accuracies, label='train accuracy')\n",
    "plt.plot(test_accuracies, label='test accuracy')\n",
    "plt.legend()\n",
    "plt.show()"
   ]
  },
  {
   "cell_type": "markdown",
   "id": "6def2eb6",
   "metadata": {},
   "source": [
    "# Visualize the most important features"
   ]
  },
  {
   "cell_type": "code",
   "execution_count": 181,
   "id": "14011741",
   "metadata": {},
   "outputs": [],
   "source": [
    "def display_feature_importance(trained_clf):\n",
    "\n",
    "    # Print the name and gini importance of each feature\n",
    "    importances = trained_clf.feature_importances_\n",
    "    print(f'\\n Feature Importance, sums up to 1:')\n",
    "    for feature in zip(X_train.columns, importances):\n",
    "        print(feature)\n",
    "        \n",
    "    # Visualise Feature Importance:\n",
    "    indices = np.argsort(trained_clf.feature_importances_)\n",
    "    plt.figure(figsize=(10,8))\n",
    "    plt.title('Feature Importances')\n",
    "    plt.barh(range(len(indices)), importances[indices], color='g', align='center')\n",
    "    plt.yticks(range(len(indices)), [X_train.columns[i] for i in indices])\n",
    "    plt.xlabel('Relative Importance')\n",
    "    plt.show()\n",
    "    \n",
    "    return "
   ]
  },
  {
   "cell_type": "code",
   "execution_count": 182,
   "id": "ae209d22",
   "metadata": {},
   "outputs": [
    {
     "name": "stdout",
     "output_type": "stream",
     "text": [
      "Training a RandomForestClassifier\n",
      "with a training set size of 1050\n",
      "\n",
      " Feature Importance, sums up to 1:\n",
      "('account_status', 0.21287874434204954)\n",
      "('credit_history', 0.07733985591890731)\n",
      "('savings_account', 0.06317250525301006)\n",
      "('personal_status_sex', 0.04187562190370147)\n",
      "('guarantors', 0.02624280530490451)\n",
      "('property', 0.04142113594019177)\n",
      "('other_installment_plans', 0.033489995256158825)\n",
      "('housing', 0.030313486399226944)\n",
      "('duration', 0.10752014184391492)\n",
      "('credit_amount', 0.12502535231406792)\n",
      "('installment_rate', 0.04034862388427357)\n",
      "('residence_since', 0.04920635487375426)\n",
      "('age', 0.09320634885892498)\n",
      "('number_of_credits', 0.01804513686612274)\n",
      "('people_to_maintain', 0.013027761645051206)\n",
      "('phone', 0.026886129395740137)\n"
     ]
    },
    {
     "data": {
      "image/png": "[encoded data removed]",
      "text/plain": [
       "<Figure size 720x576 with 1 Axes>"
      ]
     },
     "metadata": {
      "needs_background": "light"
     },
     "output_type": "display_data"
    }
   ],
   "source": [
    "X_train, X_test, y_train, y_test = train_test_split(df_new_enc, label_enc, test_size = 0.25)\n",
    "\n",
    "clf_enc = RandomForestClassifier()\n",
    "y_pred = train_predict(clf_enc, X_train, y_train, X_test, y_test)\n",
    "display_feature_importance(clf_enc)"
   ]
  },
  {
   "cell_type": "code",
   "execution_count": 183,
   "id": "23c9e089",
   "metadata": {},
   "outputs": [
    {
     "name": "stdout",
     "output_type": "stream",
     "text": [
      "Training a RandomForestClassifier\n",
      "with a training set size of 1050\n",
      "\n",
      " Feature Importance, sums up to 1:\n",
      "('duration', 0.08401373676151505)\n",
      "('credit_amount', 0.09149147225589295)\n",
      "('installment_rate', 0.03394643527602554)\n",
      "('residence_since', 0.03861136530696107)\n",
      "('age', 0.07614848819431645)\n",
      "('number_of_credits', 0.018712632023602484)\n",
      "('people_to_maintain', 0.009968492445602361)\n",
      "('phone', 0.02275045033768654)\n",
      "('account_status_A11', 0.01665743875326212)\n",
      "('account_status_A12', 0.01954926803684743)\n",
      "('account_status_A13', 0.015016493377592139)\n",
      "('account_status_A14', 0.13446771294579618)\n",
      "('credit_history_A30', 0.004803019606757944)\n",
      "('credit_history_A31', 0.005945860622582673)\n",
      "('credit_history_A32', 0.020239534838966178)\n",
      "('credit_history_A33', 0.016890524475014726)\n",
      "('credit_history_A34', 0.04083174085303399)\n",
      "('savings_account_A61', 0.01755853658732588)\n",
      "('savings_account_A62', 0.011015546572907969)\n",
      "('savings_account_A63', 0.009681288806764715)\n",
      "('savings_account_A64', 0.006122433079794079)\n",
      "('savings_account_A65', 0.0278851523978766)\n",
      "('personal_status_sex_A91', 0.006102487293977795)\n",
      "('personal_status_sex_A92', 0.016392343227375327)\n",
      "('personal_status_sex_A93', 0.03737040703762761)\n",
      "('personal_status_sex_A94', 0.010395192317694469)\n",
      "('guarantors_A101', 0.009206109399130781)\n",
      "('guarantors_A102', 0.005210707837589991)\n",
      "('guarantors_A103', 0.01112354552603032)\n",
      "('property_A121', 0.031517102398771375)\n",
      "('property_A122', 0.02114316976362925)\n",
      "('property_A123', 0.019105948727973828)\n",
      "('property_A124', 0.007979782244636767)\n",
      "('other_installment_plans_A141', 0.012624462617883744)\n",
      "('other_installment_plans_A142', 0.0061598311979966305)\n",
      "('other_installment_plans_A143', 0.023998179367224138)\n",
      "('housing_A151', 0.01308304537542242)\n",
      "('housing_A152', 0.03762688536761204)\n",
      "('housing_A153', 0.008653176743298295)\n"
     ]
    },
    {
     "data": {
      "image/png": "[encoded data removed]",
      "text/plain": [
       "<Figure size 720x576 with 1 Axes>"
      ]
     },
     "metadata": {
      "needs_background": "light"
     },
     "output_type": "display_data"
    }
   ],
   "source": [
    "X_train, X_test, y_train, y_test = train_test_split(df_new_onehot, label_onehot, test_size = 0.25)\n",
    "\n",
    "clf_onehot = RandomForestClassifier()\n",
    "y_pred = train_predict(clf_onehot, X_train, y_train, X_test, y_test)\n",
    "display_feature_importance(clf_onehot)"
   ]
  },
  {
   "cell_type": "markdown",
   "id": "5d4e25ce",
   "metadata": {},
   "source": [
    "# Correlation Matrix between features"
   ]
  },
  {
   "cell_type": "code",
   "execution_count": 185,
   "id": "2c1550ee",
   "metadata": {},
   "outputs": [
    {
     "data": {
      "image/png": "[encoded data removed]",
      "text/plain": [
       "<Figure size 720x720 with 2 Axes>"
      ]
     },
     "metadata": {
      "needs_background": "light"
     },
     "output_type": "display_data"
    }
   ],
   "source": [
    "def plot_corr_matrix(df):\n",
    "    # Sample figsize in inches\n",
    "    fig, ax = plt.subplots(figsize=(10,10))         \n",
    "    # Imbalanced DataFrame Correlation\n",
    "    corr = df.corr()\n",
    "    sns.heatmap(corr, cmap='YlGnBu', annot_kws={'size':30}, ax=ax)\n",
    "    ax.set_title(\"Correlation Matrix\", fontsize=14)\n",
    "    plt.show()\n",
    "    return\n",
    "\n",
    "plot_corr_matrix(df_new_enc)"
   ]
  },
  {
   "cell_type": "code",
   "execution_count": 186,
   "id": "881af005",
   "metadata": {},
   "outputs": [
    {
     "data": {
      "image/png": "[encoded data removed]",
      "text/plain": [
       "<Figure size 720x720 with 2 Axes>"
      ]
     },
     "metadata": {
      "needs_background": "light"
     },
     "output_type": "display_data"
    }
   ],
   "source": [
    "def plot_corr_matrix(df):\n",
    "    # Sample figsize in inches\n",
    "    fig, ax = plt.subplots(figsize=(10,10))         \n",
    "    # Imbalanced DataFrame Correlation\n",
    "    corr = df.corr()\n",
    "    sns.heatmap(corr, cmap='YlGnBu', annot_kws={'size':30}, ax=ax)\n",
    "    ax.set_title(\"Correlation Matrix\", fontsize=14)\n",
    "    plt.show()\n",
    "    return\n",
    "\n",
    "plot_corr_matrix(df_new_onehot)"
   ]
  },
  {
   "cell_type": "markdown",
   "id": "b3d42390",
   "metadata": {},
   "source": [
    "# Other Classifier"
   ]
  },
  {
   "cell_type": "code",
   "execution_count": 187,
   "id": "396ecfdd",
   "metadata": {},
   "outputs": [],
   "source": [
    "def other_classifier(clf, X_train, y_train, X_test, y_test):\n",
    "    y_pred = train_predict(clf, X_train, y_train, X_test, y_test)\n",
    "    evaluate_test(y_test, y_pred)\n",
    "\n",
    "    class_names = np.array([0, 1])\n",
    "                           \n",
    "    titles_options = [(\"Confusion matrix, without normalization\", None),\n",
    "                  (\"Normalized confusion matrix\", 'true')]\n",
    "    \n",
    "    for title, normalize in titles_options:\n",
    "        disp = plot_confusion_matrix(clf, X_test, y_test,\n",
    "                                 display_labels=class_names,\n",
    "                                 cmap=plt.cm.Blues,\n",
    "                                 normalize=normalize)\n",
    "        disp.ax_.set_title(title) \n",
    "        \n",
    "        print(title)\n",
    "        \n",
    "        print(disp.confusion_matrix)"
   ]
  },
  {
   "cell_type": "code",
   "execution_count": 188,
   "id": "f0c06119",
   "metadata": {},
   "outputs": [],
   "source": [
    "X_train, X_test, y_train, y_test = train_test_split(df_new_enc, label_onehot, test_size = 0.25)"
   ]
  },
  {
   "cell_type": "code",
   "execution_count": 189,
   "id": "e46ee67c",
   "metadata": {},
   "outputs": [
    {
     "name": "stdout",
     "output_type": "stream",
     "text": [
      "Training a SVC\n",
      "with a training set size of 1050\n",
      "Test Precision Score: 0.7570621468926554\n",
      "Test Recall Score: 0.7928994082840237\n",
      "Test Accuracy Score: 0.7771428571428571\n",
      "Test F1-score Score: 0.7745664739884395\n",
      "Test Confusion Matrix: \n",
      " [[138  43]\n",
      " [ 35 134]]\n",
      "Number of False Positives: 43\n",
      "Confusion matrix, without normalization\n",
      "[[138  43]\n",
      " [ 35 134]]\n",
      "Normalized confusion matrix\n",
      "[[0.76243094 0.23756906]\n",
      " [0.20710059 0.79289941]]\n"
     ]
    },
    {
     "data": {
      "image/png": "[encoded data removed]",
      "text/plain": [
       "<Figure size 432x288 with 2 Axes>"
      ]
     },
     "metadata": {
      "needs_background": "light"
     },
     "output_type": "display_data"
    },
    {
     "data": {
      "image/png": "[encoded data removed]",
      "text/plain": [
       "<Figure size 432x288 with 2 Axes>"
      ]
     },
     "metadata": {
      "needs_background": "light"
     },
     "output_type": "display_data"
    }
   ],
   "source": [
    "clf_svm = SVC(random_state = 9, kernel='linear')\n",
    "other_classifier(clf_svm, X_train, y_train, X_test, y_test)"
   ]
  },
  {
   "cell_type": "code",
   "execution_count": 190,
   "id": "752629f0",
   "metadata": {},
   "outputs": [
    {
     "name": "stdout",
     "output_type": "stream",
     "text": [
      "Training a LogisticRegression\n",
      "with a training set size of 1050\n",
      "Test Precision Score: 0.7058823529411765\n",
      "Test Recall Score: 0.7810650887573964\n",
      "Test Accuracy Score: 0.7371428571428571\n",
      "Test F1-score Score: 0.7415730337078651\n",
      "Test Confusion Matrix: \n",
      " [[126  55]\n",
      " [ 37 132]]\n",
      "Number of False Positives: 55\n",
      "Confusion matrix, without normalization\n",
      "[[126  55]\n",
      " [ 37 132]]\n",
      "Normalized confusion matrix\n",
      "[[0.6961326  0.3038674 ]\n",
      " [0.21893491 0.78106509]]\n"
     ]
    },
    {
     "data": {
      "image/png": "[encoded data removed]",
      "text/plain": [
       "<Figure size 432x288 with 2 Axes>"
      ]
     },
     "metadata": {
      "needs_background": "light"
     },
     "output_type": "display_data"
    },
    {
     "data": {
      "image/png": "[encoded data removed]",
      "text/plain": [
       "<Figure size 432x288 with 2 Axes>"
      ]
     },
     "metadata": {
      "needs_background": "light"
     },
     "output_type": "display_data"
    }
   ],
   "source": [
    "clf_log_reg = LogisticRegression(random_state=0, solver='lbfgs', multi_class='multinomial')\n",
    "other_classifier(clf_log_reg, X_train, y_train, X_test, y_test)"
   ]
  },
  {
   "cell_type": "code",
   "execution_count": 191,
   "id": "21f68c0d",
   "metadata": {},
   "outputs": [
    {
     "name": "stdout",
     "output_type": "stream",
     "text": [
      "Training a DecisionTreeClassifier\n",
      "with a training set size of 1050\n",
      "Test Precision Score: 0.75\n",
      "Test Recall Score: 0.8165680473372781\n",
      "Test Accuracy Score: 0.78\n",
      "Test F1-score Score: 0.781869688385269\n",
      "Test Confusion Matrix: \n",
      " [[135  46]\n",
      " [ 31 138]]\n",
      "Number of False Positives: 46\n",
      "Confusion matrix, without normalization\n",
      "[[135  46]\n",
      " [ 31 138]]\n",
      "Normalized confusion matrix\n",
      "[[0.74585635 0.25414365]\n",
      " [0.18343195 0.81656805]]\n"
     ]
    },
    {
     "data": {
      "image/png": "[encoded data removed]",
      "text/plain": [
       "<Figure size 432x288 with 2 Axes>"
      ]
     },
     "metadata": {
      "needs_background": "light"
     },
     "output_type": "display_data"
    },
    {
     "data": {
      "image/png": "[encoded data removed]",
      "text/plain": [
       "<Figure size 432x288 with 2 Axes>"
      ]
     },
     "metadata": {
      "needs_background": "light"
     },
     "output_type": "display_data"
    }
   ],
   "source": [
    "clf_tree = DecisionTreeClassifier(criterion='entropy', max_depth=8, min_samples_split=5, splitter = 'best', \n",
    "                                  min_samples_leaf = 25)\n",
    "other_classifier(clf_tree, X_train, y_train, X_test, y_test)"
   ]
  },
  {
   "cell_type": "code",
   "execution_count": 192,
   "id": "1cdac998",
   "metadata": {},
   "outputs": [
    {
     "data": {
      "image/png": "[encoded data removed]",
      "text/plain": [
       "<Figure size 432x288 with 1 Axes>"
      ]
     },
     "metadata": {
      "needs_background": "light"
     },
     "output_type": "display_data"
    }
   ],
   "source": [
    "ax = plt.gca()\n",
    "\n",
    "clf_log_reg_disp = plot_roc_curve(clf_log_reg, X_test, y_test, ax=ax, alpha=0.8)\n",
    "clf_tree_disp = plot_roc_curve(clf_tree, X_test, y_test, ax=ax, alpha=0.8)\n",
    "#clf_tree_disp.plot(ax=ax, alpha=0.8)\n",
    "clf_svm_disp = plot_roc_curve(clf_svm, X_test, y_test, ax=ax, alpha=0.8)\n",
    "clf_enc = plot_roc_curve(clf_enc, X_test, y_test, ax=ax, alpha=0.8)\n",
    "\n",
    "plt.show()"
   ]
  },
  {
   "cell_type": "code",
   "execution_count": 193,
   "id": "c55873f4",
   "metadata": {},
   "outputs": [
    {
     "name": "stdout",
     "output_type": "stream",
     "text": [
      "Epoch 1/150\n",
      "210/210 [==============================] - 0s 1ms/step - loss: 6.2800 - accuracy: 0.5019 - binary_crossentropy: 6.2800\n",
      "Epoch 2/150\n",
      "210/210 [==============================] - 0s 1ms/step - loss: 2.8890 - accuracy: 0.5686 - binary_crossentropy: 2.8890\n",
      "Epoch 3/150\n",
      "210/210 [==============================] - 0s 1ms/step - loss: 3.7263 - accuracy: 0.5410 - binary_crossentropy: 3.7263\n",
      "Epoch 4/150\n",
      "210/210 [==============================] - 0s 1ms/step - loss: 1.9557 - accuracy: 0.5667 - binary_crossentropy: 1.9557\n",
      "Epoch 5/150\n",
      "210/210 [==============================] - 0s 1ms/step - loss: 3.0796 - accuracy: 0.5314 - binary_crossentropy: 3.0796\n",
      "Epoch 6/150\n",
      "210/210 [==============================] - 0s 1ms/step - loss: 3.2090 - accuracy: 0.5429 - binary_crossentropy: 3.2090\n",
      "Epoch 7/150\n",
      "210/210 [==============================] - 0s 1ms/step - loss: 2.1005 - accuracy: 0.5733 - binary_crossentropy: 2.1005\n",
      "Epoch 8/150\n",
      "210/210 [==============================] - 0s 1ms/step - loss: 2.0446 - accuracy: 0.6171 - binary_crossentropy: 2.0446\n",
      "Epoch 9/150\n",
      "210/210 [==============================] - 0s 1ms/step - loss: 2.5067 - accuracy: 0.5533 - binary_crossentropy: 2.5067\n",
      "Epoch 10/150\n",
      "210/210 [==============================] - 0s 2ms/step - loss: 2.0566 - accuracy: 0.5695 - binary_crossentropy: 2.0566\n",
      "Epoch 11/150\n",
      "210/210 [==============================] - 0s 2ms/step - loss: 1.7669 - accuracy: 0.5581 - binary_crossentropy: 1.7669\n",
      "Epoch 12/150\n",
      "210/210 [==============================] - 0s 1ms/step - loss: 0.8496 - accuracy: 0.6619 - binary_crossentropy: 0.8496\n",
      "Epoch 13/150\n",
      "210/210 [==============================] - 0s 1ms/step - loss: 1.8116 - accuracy: 0.5629 - binary_crossentropy: 1.8116\n",
      "Epoch 14/150\n",
      "210/210 [==============================] - 0s 2ms/step - loss: 1.0557 - accuracy: 0.6267 - binary_crossentropy: 1.0557\n",
      "Epoch 15/150\n",
      "210/210 [==============================] - 0s 1ms/step - loss: 1.1583 - accuracy: 0.6219 - binary_crossentropy: 1.1583\n",
      "Epoch 16/150\n",
      "210/210 [==============================] - 0s 2ms/step - loss: 0.9032 - accuracy: 0.6733 - binary_crossentropy: 0.9032\n",
      "Epoch 17/150\n",
      "210/210 [==============================] - 0s 1ms/step - loss: 0.7899 - accuracy: 0.6705 - binary_crossentropy: 0.7899\n",
      "Epoch 18/150\n",
      "210/210 [==============================] - 0s 1ms/step - loss: 0.9029 - accuracy: 0.6533 - binary_crossentropy: 0.9029\n",
      "Epoch 19/150\n",
      "210/210 [==============================] - 0s 1ms/step - loss: 0.7880 - accuracy: 0.6648 - binary_crossentropy: 0.7880\n",
      "Epoch 20/150\n",
      "210/210 [==============================] - 0s 2ms/step - loss: 0.7683 - accuracy: 0.6524 - binary_crossentropy: 0.7683\n",
      "Epoch 21/150\n",
      "210/210 [==============================] - 0s 2ms/step - loss: 0.7509 - accuracy: 0.6571 - binary_crossentropy: 0.7509\n",
      "Epoch 22/150\n",
      "210/210 [==============================] - 0s 2ms/step - loss: 0.6105 - accuracy: 0.7048 - binary_crossentropy: 0.6105\n",
      "Epoch 23/150\n",
      "210/210 [==============================] - 0s 2ms/step - loss: 0.6538 - accuracy: 0.6771 - binary_crossentropy: 0.6538\n",
      "Epoch 24/150\n",
      "210/210 [==============================] - 0s 2ms/step - loss: 0.6333 - accuracy: 0.7019 - binary_crossentropy: 0.6333\n",
      "Epoch 25/150\n",
      "210/210 [==============================] - 0s 1ms/step - loss: 0.6437 - accuracy: 0.6857 - binary_crossentropy: 0.6437\n",
      "Epoch 26/150\n",
      "210/210 [==============================] - 0s 2ms/step - loss: 0.6291 - accuracy: 0.6838 - binary_crossentropy: 0.6291\n",
      "Epoch 27/150\n",
      "210/210 [==============================] - 1s 3ms/step - loss: 0.6411 - accuracy: 0.6962 - binary_crossentropy: 0.6411\n",
      "Epoch 28/150\n",
      "210/210 [==============================] - 1s 4ms/step - loss: 0.6363 - accuracy: 0.6629 - binary_crossentropy: 0.6363\n",
      "Epoch 29/150\n",
      "210/210 [==============================] - 0s 2ms/step - loss: 0.7612 - accuracy: 0.6571 - binary_crossentropy: 0.7612\n",
      "Epoch 30/150\n",
      "210/210 [==============================] - 0s 1ms/step - loss: 0.6226 - accuracy: 0.6990 - binary_crossentropy: 0.6226\n",
      "Epoch 31/150\n",
      "210/210 [==============================] - 0s 1ms/step - loss: 0.6381 - accuracy: 0.6781 - binary_crossentropy: 0.6381\n",
      "Epoch 32/150\n",
      "210/210 [==============================] - 0s 1ms/step - loss: 0.6513 - accuracy: 0.6705 - binary_crossentropy: 0.6513\n",
      "Epoch 33/150\n",
      "210/210 [==============================] - 0s 1ms/step - loss: 0.7040 - accuracy: 0.6124 - binary_crossentropy: 0.7040\n",
      "Epoch 34/150\n",
      "210/210 [==============================] - 0s 1ms/step - loss: 0.6516 - accuracy: 0.6086 - binary_crossentropy: 0.6516\n",
      "Epoch 35/150\n",
      "210/210 [==============================] - 0s 2ms/step - loss: 0.6565 - accuracy: 0.5848 - binary_crossentropy: 0.6565\n",
      "Epoch 36/150\n",
      "210/210 [==============================] - 0s 1ms/step - loss: 0.6327 - accuracy: 0.6333 - binary_crossentropy: 0.6327\n",
      "Epoch 37/150\n",
      "210/210 [==============================] - 0s 1ms/step - loss: 0.6533 - accuracy: 0.5933 - binary_crossentropy: 0.6533\n",
      "Epoch 38/150\n",
      "210/210 [==============================] - 0s 1ms/step - loss: 0.6431 - accuracy: 0.6210 - binary_crossentropy: 0.6431\n",
      "Epoch 39/150\n",
      "210/210 [==============================] - 0s 1ms/step - loss: 0.6399 - accuracy: 0.6029 - binary_crossentropy: 0.6399\n",
      "Epoch 40/150\n",
      "210/210 [==============================] - 0s 1ms/step - loss: 0.6557 - accuracy: 0.5886 - binary_crossentropy: 0.6557\n",
      "Epoch 41/150\n",
      "210/210 [==============================] - 0s 1ms/step - loss: 0.6413 - accuracy: 0.6219 - binary_crossentropy: 0.6413\n",
      "Epoch 42/150\n",
      "210/210 [==============================] - 0s 2ms/step - loss: 0.6878 - accuracy: 0.5524 - binary_crossentropy: 0.6878\n",
      "Epoch 43/150\n",
      "210/210 [==============================] - 0s 2ms/step - loss: 0.6412 - accuracy: 0.6171 - binary_crossentropy: 0.6412\n",
      "Epoch 44/150\n",
      "210/210 [==============================] - 0s 2ms/step - loss: 0.6513 - accuracy: 0.5962 - binary_crossentropy: 0.6513\n",
      "Epoch 45/150\n",
      "210/210 [==============================] - 0s 2ms/step - loss: 0.6644 - accuracy: 0.5714 - binary_crossentropy: 0.6644\n",
      "Epoch 46/150\n",
      "210/210 [==============================] - 0s 2ms/step - loss: 0.6026 - accuracy: 0.6848 - binary_crossentropy: 0.6026\n",
      "Epoch 47/150\n",
      "210/210 [==============================] - 0s 2ms/step - loss: 0.6222 - accuracy: 0.6381 - binary_crossentropy: 0.6222\n",
      "Epoch 48/150\n",
      "210/210 [==============================] - 0s 1ms/step - loss: 0.6217 - accuracy: 0.6457 - binary_crossentropy: 0.6217\n",
      "Epoch 49/150\n",
      "210/210 [==============================] - 0s 1ms/step - loss: 0.6044 - accuracy: 0.6829 - binary_crossentropy: 0.6044\n",
      "Epoch 50/150\n",
      "210/210 [==============================] - 0s 1ms/step - loss: 0.6943 - accuracy: 0.5295 - binary_crossentropy: 0.6943\n",
      "Epoch 51/150\n",
      "210/210 [==============================] - 0s 2ms/step - loss: 0.6300 - accuracy: 0.6371 - binary_crossentropy: 0.6300\n",
      "Epoch 52/150\n",
      "210/210 [==============================] - 0s 1ms/step - loss: 0.6568 - accuracy: 0.5895 - binary_crossentropy: 0.6568\n",
      "Epoch 53/150\n",
      "210/210 [==============================] - 0s 1ms/step - loss: 0.6580 - accuracy: 0.5752 - binary_crossentropy: 0.6580\n",
      "Epoch 54/150\n",
      "210/210 [==============================] - 0s 1ms/step - loss: 0.6567 - accuracy: 0.5781 - binary_crossentropy: 0.6567\n",
      "Epoch 55/150\n",
      "210/210 [==============================] - 0s 1ms/step - loss: 0.6624 - accuracy: 0.5790 - binary_crossentropy: 0.6624\n",
      "Epoch 56/150\n",
      "210/210 [==============================] - 0s 1ms/step - loss: 0.6470 - accuracy: 0.6019 - binary_crossentropy: 0.6470\n",
      "Epoch 57/150\n",
      "210/210 [==============================] - 0s 1ms/step - loss: 0.6423 - accuracy: 0.6324 - binary_crossentropy: 0.6423\n",
      "Epoch 58/150\n",
      "210/210 [==============================] - 0s 1ms/step - loss: 0.6100 - accuracy: 0.6638 - binary_crossentropy: 0.6100\n",
      "Epoch 59/150\n",
      "210/210 [==============================] - 0s 1ms/step - loss: 0.6158 - accuracy: 0.6638 - binary_crossentropy: 0.6158\n",
      "Epoch 60/150\n",
      "210/210 [==============================] - 0s 1ms/step - loss: 0.6710 - accuracy: 0.5819 - binary_crossentropy: 0.6710\n",
      "Epoch 61/150\n",
      "210/210 [==============================] - 0s 1ms/step - loss: 0.6723 - accuracy: 0.5676 - binary_crossentropy: 0.6723\n",
      "Epoch 62/150\n",
      "210/210 [==============================] - 0s 1ms/step - loss: 0.6309 - accuracy: 0.6190 - binary_crossentropy: 0.6309\n",
      "Epoch 63/150\n",
      "210/210 [==============================] - 0s 1ms/step - loss: 0.6385 - accuracy: 0.6324 - binary_crossentropy: 0.6385\n",
      "Epoch 64/150\n",
      "210/210 [==============================] - 0s 1ms/step - loss: 0.6252 - accuracy: 0.6495 - binary_crossentropy: 0.6252\n",
      "Epoch 65/150\n",
      "210/210 [==============================] - 0s 1ms/step - loss: 0.6676 - accuracy: 0.5790 - binary_crossentropy: 0.6676\n",
      "Epoch 66/150\n",
      "210/210 [==============================] - 0s 1ms/step - loss: 0.6144 - accuracy: 0.6552 - binary_crossentropy: 0.6144\n",
      "Epoch 67/150\n",
      "210/210 [==============================] - 0s 1ms/step - loss: 0.6706 - accuracy: 0.5838 - binary_crossentropy: 0.6706\n",
      "Epoch 68/150\n",
      "210/210 [==============================] - 0s 2ms/step - loss: 0.6850 - accuracy: 0.5524 - binary_crossentropy: 0.6850\n",
      "Epoch 69/150\n",
      "210/210 [==============================] - 0s 2ms/step - loss: 0.6390 - accuracy: 0.6257 - binary_crossentropy: 0.6390\n",
      "Epoch 70/150\n",
      "210/210 [==============================] - 0s 2ms/step - loss: 0.6581 - accuracy: 0.5914 - binary_crossentropy: 0.6581\n",
      "Epoch 71/150\n",
      "210/210 [==============================] - 0s 2ms/step - loss: 0.6252 - accuracy: 0.6276 - binary_crossentropy: 0.6252\n",
      "Epoch 72/150\n",
      "210/210 [==============================] - 0s 1ms/step - loss: 0.6205 - accuracy: 0.6486 - binary_crossentropy: 0.6205\n",
      "Epoch 73/150\n",
      "210/210 [==============================] - 0s 1ms/step - loss: 0.6208 - accuracy: 0.6467 - binary_crossentropy: 0.6208\n",
      "Epoch 74/150\n",
      "210/210 [==============================] - 0s 2ms/step - loss: 0.6285 - accuracy: 0.6514 - binary_crossentropy: 0.6285\n",
      "Epoch 75/150\n",
      "210/210 [==============================] - 1s 4ms/step - loss: 0.7090 - accuracy: 0.5019 - binary_crossentropy: 0.7090\n",
      "Epoch 76/150\n",
      "210/210 [==============================] - 1s 5ms/step - loss: 0.6888 - accuracy: 0.5076 - binary_crossentropy: 0.6888\n",
      "Epoch 77/150\n",
      "210/210 [==============================] - 0s 2ms/step - loss: 0.6367 - accuracy: 0.6181 - binary_crossentropy: 0.6367\n",
      "Epoch 78/150\n",
      "210/210 [==============================] - 0s 1ms/step - loss: 0.6225 - accuracy: 0.6410 - binary_crossentropy: 0.6225\n",
      "Epoch 79/150\n",
      "210/210 [==============================] - 0s 1ms/step - loss: 0.6928 - accuracy: 0.5248 - binary_crossentropy: 0.6928\n",
      "Epoch 80/150\n",
      "210/210 [==============================] - 0s 1ms/step - loss: 0.6928 - accuracy: 0.5010 - binary_crossentropy: 0.6928\n",
      "Epoch 81/150\n",
      "210/210 [==============================] - 0s 1ms/step - loss: 0.6882 - accuracy: 0.5124 - binary_crossentropy: 0.6882\n",
      "Epoch 82/150\n",
      "210/210 [==============================] - 0s 2ms/step - loss: 0.6583 - accuracy: 0.5819 - binary_crossentropy: 0.6583\n",
      "Epoch 83/150\n",
      "210/210 [==============================] - 0s 1ms/step - loss: 0.6586 - accuracy: 0.5810 - binary_crossentropy: 0.6586\n",
      "Epoch 84/150\n",
      "210/210 [==============================] - 0s 1ms/step - loss: 0.6249 - accuracy: 0.6638 - binary_crossentropy: 0.6249\n",
      "Epoch 85/150\n",
      "210/210 [==============================] - 0s 1ms/step - loss: 0.6940 - accuracy: 0.5114 - binary_crossentropy: 0.6940\n",
      "Epoch 86/150\n",
      "210/210 [==============================] - 0s 1ms/step - loss: 0.6691 - accuracy: 0.5581 - binary_crossentropy: 0.6691\n",
      "Epoch 87/150\n",
      "210/210 [==============================] - 0s 1ms/step - loss: 0.6211 - accuracy: 0.6562 - binary_crossentropy: 0.6211\n",
      "Epoch 88/150\n",
      "210/210 [==============================] - 0s 1ms/step - loss: 0.6897 - accuracy: 0.5267 - binary_crossentropy: 0.6897\n",
      "Epoch 89/150\n",
      "210/210 [==============================] - 0s 1ms/step - loss: 0.6691 - accuracy: 0.5667 - binary_crossentropy: 0.6691\n",
      "Epoch 90/150\n",
      "210/210 [==============================] - 0s 1ms/step - loss: 0.6259 - accuracy: 0.6390 - binary_crossentropy: 0.6259\n",
      "Epoch 91/150\n",
      "210/210 [==============================] - 0s 1ms/step - loss: 0.6472 - accuracy: 0.6086 - binary_crossentropy: 0.6472\n",
      "Epoch 92/150\n",
      "210/210 [==============================] - 0s 1ms/step - loss: 0.6550 - accuracy: 0.6029 - binary_crossentropy: 0.6550\n",
      "Epoch 93/150\n",
      "210/210 [==============================] - 0s 1ms/step - loss: 0.6263 - accuracy: 0.6400 - binary_crossentropy: 0.6263\n",
      "Epoch 94/150\n",
      "210/210 [==============================] - 0s 2ms/step - loss: 0.6037 - accuracy: 0.6781 - binary_crossentropy: 0.6037\n",
      "Epoch 95/150\n",
      "210/210 [==============================] - 0s 1ms/step - loss: 0.6396 - accuracy: 0.6190 - binary_crossentropy: 0.6396\n",
      "Epoch 96/150\n",
      "210/210 [==============================] - 0s 2ms/step - loss: 0.6976 - accuracy: 0.5143 - binary_crossentropy: 0.6976\n",
      "Epoch 97/150\n",
      "210/210 [==============================] - 0s 1ms/step - loss: 0.6493 - accuracy: 0.6105 - binary_crossentropy: 0.6493\n",
      "Epoch 98/150\n",
      "210/210 [==============================] - 0s 2ms/step - loss: 0.6249 - accuracy: 0.6457 - binary_crossentropy: 0.6249\n",
      "Epoch 99/150\n",
      "210/210 [==============================] - 0s 1ms/step - loss: 0.6059 - accuracy: 0.6743 - binary_crossentropy: 0.6059\n",
      "Epoch 100/150\n",
      "210/210 [==============================] - 0s 1ms/step - loss: 0.6152 - accuracy: 0.6505 - binary_crossentropy: 0.6152\n",
      "Epoch 101/150\n",
      "210/210 [==============================] - 0s 1ms/step - loss: 0.6838 - accuracy: 0.5524 - binary_crossentropy: 0.6838\n",
      "Epoch 102/150\n",
      "210/210 [==============================] - 0s 1ms/step - loss: 0.6904 - accuracy: 0.5152 - binary_crossentropy: 0.6904\n",
      "Epoch 103/150\n",
      "210/210 [==============================] - 0s 1ms/step - loss: 0.6682 - accuracy: 0.5486 - binary_crossentropy: 0.6682\n",
      "Epoch 104/150\n",
      "210/210 [==============================] - 0s 1ms/step - loss: 0.6446 - accuracy: 0.6400 - binary_crossentropy: 0.6446\n",
      "Epoch 105/150\n",
      "210/210 [==============================] - 0s 1ms/step - loss: 0.6426 - accuracy: 0.6314 - binary_crossentropy: 0.6426\n",
      "Epoch 106/150\n",
      "210/210 [==============================] - 0s 1ms/step - loss: 0.6222 - accuracy: 0.6438 - binary_crossentropy: 0.6222\n",
      "Epoch 107/150\n",
      "210/210 [==============================] - 0s 1ms/step - loss: 0.6212 - accuracy: 0.6524 - binary_crossentropy: 0.6212\n",
      "Epoch 108/150\n",
      "210/210 [==============================] - 0s 1ms/step - loss: 0.6219 - accuracy: 0.6362 - binary_crossentropy: 0.6219\n",
      "Epoch 109/150\n",
      "210/210 [==============================] - 0s 1ms/step - loss: 0.6015 - accuracy: 0.6667 - binary_crossentropy: 0.6015\n",
      "Epoch 110/150\n",
      "210/210 [==============================] - 0s 1ms/step - loss: 0.6080 - accuracy: 0.6819 - binary_crossentropy: 0.6080\n",
      "Epoch 111/150\n",
      "210/210 [==============================] - 0s 2ms/step - loss: 0.6586 - accuracy: 0.6038 - binary_crossentropy: 0.6586\n",
      "Epoch 112/150\n",
      "210/210 [==============================] - 0s 1ms/step - loss: 0.6140 - accuracy: 0.6514 - binary_crossentropy: 0.6140\n",
      "Epoch 113/150\n",
      "210/210 [==============================] - 0s 2ms/step - loss: 0.6031 - accuracy: 0.6790 - binary_crossentropy: 0.6031\n",
      "Epoch 114/150\n",
      "210/210 [==============================] - 0s 2ms/step - loss: 0.6422 - accuracy: 0.6457 - binary_crossentropy: 0.6422\n",
      "Epoch 115/150\n",
      "210/210 [==============================] - 0s 2ms/step - loss: 0.7072 - accuracy: 0.4962 - binary_crossentropy: 0.7072\n",
      "Epoch 116/150\n",
      "210/210 [==============================] - 0s 2ms/step - loss: 0.6942 - accuracy: 0.5095 - binary_crossentropy: 0.6942\n",
      "Epoch 117/150\n",
      "210/210 [==============================] - 0s 2ms/step - loss: 0.6870 - accuracy: 0.5190 - binary_crossentropy: 0.6870\n",
      "Epoch 118/150\n",
      "210/210 [==============================] - 0s 2ms/step - loss: 0.6529 - accuracy: 0.5857 - binary_crossentropy: 0.6529\n",
      "Epoch 119/150\n",
      "210/210 [==============================] - 0s 1ms/step - loss: 0.6400 - accuracy: 0.6514 - binary_crossentropy: 0.6400\n",
      "Epoch 120/150\n",
      "210/210 [==============================] - 0s 2ms/step - loss: 0.6275 - accuracy: 0.6476 - binary_crossentropy: 0.6275\n",
      "Epoch 121/150\n",
      "210/210 [==============================] - 1s 3ms/step - loss: 0.6379 - accuracy: 0.6352 - binary_crossentropy: 0.6379\n",
      "Epoch 122/150\n",
      "210/210 [==============================] - 1s 6ms/step - loss: 0.7053 - accuracy: 0.6000 - binary_crossentropy: 0.7053\n",
      "Epoch 123/150\n",
      "210/210 [==============================] - 0s 2ms/step - loss: 0.6499 - accuracy: 0.5971 - binary_crossentropy: 0.6499\n",
      "Epoch 124/150\n",
      "210/210 [==============================] - 0s 1ms/step - loss: 0.6458 - accuracy: 0.6305 - binary_crossentropy: 0.6458\n"
     ]
    },
    {
     "name": "stdout",
     "output_type": "stream",
     "text": [
      "Epoch 125/150\n",
      "210/210 [==============================] - 0s 1ms/step - loss: 0.5897 - accuracy: 0.6886 - binary_crossentropy: 0.5897\n",
      "Epoch 126/150\n",
      "210/210 [==============================] - 0s 1ms/step - loss: 0.6120 - accuracy: 0.6495 - binary_crossentropy: 0.6120\n",
      "Epoch 127/150\n",
      "210/210 [==============================] - 0s 1ms/step - loss: 0.6107 - accuracy: 0.6714 - binary_crossentropy: 0.6107\n",
      "Epoch 128/150\n",
      "210/210 [==============================] - 0s 1ms/step - loss: 0.6285 - accuracy: 0.6524 - binary_crossentropy: 0.6285\n",
      "Epoch 129/150\n",
      "210/210 [==============================] - 0s 1ms/step - loss: 0.6600 - accuracy: 0.5810 - binary_crossentropy: 0.6600\n",
      "Epoch 130/150\n",
      "210/210 [==============================] - 0s 2ms/step - loss: 0.6257 - accuracy: 0.6467 - binary_crossentropy: 0.6257\n",
      "Epoch 131/150\n",
      "210/210 [==============================] - 0s 1ms/step - loss: 0.6070 - accuracy: 0.6733 - binary_crossentropy: 0.6070\n",
      "Epoch 132/150\n",
      "210/210 [==============================] - 0s 1ms/step - loss: 0.5955 - accuracy: 0.6790 - binary_crossentropy: 0.5955\n",
      "Epoch 133/150\n",
      "210/210 [==============================] - 0s 1ms/step - loss: 0.6133 - accuracy: 0.6667 - binary_crossentropy: 0.6133\n",
      "Epoch 134/150\n",
      "210/210 [==============================] - 0s 1ms/step - loss: 0.6410 - accuracy: 0.6171 - binary_crossentropy: 0.6410\n",
      "Epoch 135/150\n",
      "210/210 [==============================] - 0s 1ms/step - loss: 0.6848 - accuracy: 0.5333 - binary_crossentropy: 0.6848\n",
      "Epoch 136/150\n",
      "210/210 [==============================] - 0s 1ms/step - loss: 0.6440 - accuracy: 0.6057 - binary_crossentropy: 0.6440\n",
      "Epoch 137/150\n",
      "210/210 [==============================] - 0s 1ms/step - loss: 0.5899 - accuracy: 0.6933 - binary_crossentropy: 0.5899\n",
      "Epoch 138/150\n",
      "210/210 [==============================] - 0s 1ms/step - loss: 0.6199 - accuracy: 0.6590 - binary_crossentropy: 0.6199\n",
      "Epoch 139/150\n",
      "210/210 [==============================] - 0s 1ms/step - loss: 0.6055 - accuracy: 0.7010 - binary_crossentropy: 0.6055\n",
      "Epoch 140/150\n",
      "210/210 [==============================] - 0s 1ms/step - loss: 0.6030 - accuracy: 0.6686 - binary_crossentropy: 0.6030\n",
      "Epoch 141/150\n",
      "210/210 [==============================] - 0s 1ms/step - loss: 0.6025 - accuracy: 0.6762 - binary_crossentropy: 0.6025\n",
      "Epoch 142/150\n",
      "210/210 [==============================] - 0s 1ms/step - loss: 0.5830 - accuracy: 0.6952 - binary_crossentropy: 0.5830\n",
      "Epoch 143/150\n",
      "210/210 [==============================] - 0s 1ms/step - loss: 0.6207 - accuracy: 0.6419 - binary_crossentropy: 0.6207\n",
      "Epoch 144/150\n",
      "210/210 [==============================] - 0s 1ms/step - loss: 0.6118 - accuracy: 0.6600 - binary_crossentropy: 0.6118\n",
      "Epoch 145/150\n",
      "210/210 [==============================] - 0s 1ms/step - loss: 0.6538 - accuracy: 0.5933 - binary_crossentropy: 0.6538\n",
      "Epoch 146/150\n",
      "210/210 [==============================] - 0s 1ms/step - loss: 0.6404 - accuracy: 0.6381 - binary_crossentropy: 0.6404\n",
      "Epoch 147/150\n",
      "210/210 [==============================] - 0s 1ms/step - loss: 0.5980 - accuracy: 0.6876 - binary_crossentropy: 0.5980\n",
      "Epoch 148/150\n",
      "210/210 [==============================] - 0s 1ms/step - loss: 0.6015 - accuracy: 0.6648 - binary_crossentropy: 0.6015\n",
      "Epoch 149/150\n",
      "210/210 [==============================] - 0s 1ms/step - loss: 0.6582 - accuracy: 0.6333 - binary_crossentropy: 0.6582\n",
      "Epoch 150/150\n",
      "210/210 [==============================] - 0s 1ms/step - loss: 0.5945 - accuracy: 0.6914 - binary_crossentropy: 0.5945\n"
     ]
    },
    {
     "data": {
      "text/plain": [
       "<tensorflow.python.keras.callbacks.History at 0x2167267d3a0>"
      ]
     },
     "execution_count": 193,
     "metadata": {},
     "output_type": "execute_result"
    }
   ],
   "source": [
    "# define the model\n",
    "model = Sequential()\n",
    "\n",
    "# hidden layer mit 16 inputs, 10 units\n",
    "model.add(Dense(20, input_dim=16, activation='relu'))\n",
    "model.add(Dense(10, activation='relu'))\n",
    "model.add(Dense(20, activation = 'relu'))\n",
    "\n",
    "# output layer\n",
    "model.add(Dense(1, activation='sigmoid'))\n",
    "\n",
    "# For a multi-class classification problem\n",
    "history = model.compile(loss='binary_crossentropy', optimizer='adam', metrics=['accuracy', 'binary_crossentropy'])\n",
    "\n",
    "\n",
    "model.fit(X_train, y_train, epochs=150, batch_size=5)"
   ]
  },
  {
   "cell_type": "code",
   "execution_count": 194,
   "id": "11d0891f",
   "metadata": {},
   "outputs": [
    {
     "name": "stdout",
     "output_type": "stream",
     "text": [
      "{'loss': 0.5371417999267578, 'accuracy': 0.7495238184928894, 'binary_crossentropy': 0.5371417999267578}\n"
     ]
    }
   ],
   "source": [
    "result = model.evaluate(X_train,y_train, verbose=0)\n",
    "print(dict(zip(model.metrics_names, result)))"
   ]
  },
  {
   "cell_type": "code",
   "execution_count": 195,
   "id": "6285e702",
   "metadata": {},
   "outputs": [],
   "source": [
    "X_train, X_test, y_train, y_test = train_test_split(df_new_onehot, label_onehot, test_size = 0.25)"
   ]
  },
  {
   "cell_type": "code",
   "execution_count": null,
   "id": "97a6efe1",
   "metadata": {},
   "outputs": [
    {
     "name": "stdout",
     "output_type": "stream",
     "text": [
      "Training a SVC\n",
      "with a training set size of 1050\n"
     ]
    }
   ],
   "source": [
    "clf_svm = SVC(random_state = 9, kernel='linear')\n",
    "other_classifier(clf_svm, X_train, y_train, X_test, y_test)"
   ]
  },
  {
   "cell_type": "code",
   "execution_count": null,
   "id": "991be616",
   "metadata": {},
   "outputs": [],
   "source": [
    "clf_log_reg = LogisticRegression(random_state=0, solver='lbfgs', multi_class='multinomial')\n",
    "other_classifier(clf_log_reg, X_train, y_train, X_test, y_test)"
   ]
  },
  {
   "cell_type": "code",
   "execution_count": null,
   "id": "320f1dd7",
   "metadata": {},
   "outputs": [],
   "source": [
    "clf_tree = DecisionTreeClassifier(criterion='entropy', max_depth=8, min_samples_split=5, splitter = 'best', \n",
    "                                  min_samples_leaf = 25)\n",
    "other_classifier(clf_tree, X_train, y_train, X_test, y_test)"
   ]
  },
  {
   "cell_type": "code",
   "execution_count": null,
   "id": "56544a0e",
   "metadata": {},
   "outputs": [],
   "source": [
    "ax = plt.gca()\n",
    "\n",
    "clf_log_reg_disp = plot_roc_curve(clf_log_reg, X_test, y_test, ax=ax, alpha=0.8)\n",
    "clf_tree_disp = plot_roc_curve(clf_tree, X_test, y_test, ax=ax, alpha=0.8)\n",
    "#clf_tree_disp.plot(ax=ax, alpha=0.8)\n",
    "clf_svm_disp = plot_roc_curve(clf_svm, X_test, y_test, ax=ax, alpha=0.8)\n",
    "clf_onehot = plot_roc_curve(clf_onehot, X_test, y_test, ax=ax, alpha=0.8)\n",
    "\n",
    "plt.show()"
   ]
  },
  {
   "cell_type": "code",
   "execution_count": 100,
   "id": "88a419e3",
   "metadata": {},
   "outputs": [
    {
     "name": "stdout",
     "output_type": "stream",
     "text": [
      "Epoch 1/150\n",
      "210/210 [==============================] - 0s 2ms/step - loss: 3.4672 - accuracy: 0.4790 - binary_crossentropy: 3.4672\n",
      "Epoch 2/150\n",
      "210/210 [==============================] - 0s 2ms/step - loss: 3.1091 - accuracy: 0.5133 - binary_crossentropy: 3.1091\n",
      "Epoch 3/150\n",
      "210/210 [==============================] - 0s 2ms/step - loss: 2.3916 - accuracy: 0.5467 - binary_crossentropy: 2.3916\n",
      "Epoch 4/150\n",
      "210/210 [==============================] - 0s 2ms/step - loss: 2.5329 - accuracy: 0.5410 - binary_crossentropy: 2.5329\n",
      "Epoch 5/150\n",
      "210/210 [==============================] - 0s 2ms/step - loss: 4.2054 - accuracy: 0.5143 - binary_crossentropy: 4.2054\n",
      "Epoch 6/150\n",
      "210/210 [==============================] - 0s 2ms/step - loss: 3.0835 - accuracy: 0.5267 - binary_crossentropy: 3.0835\n",
      "Epoch 7/150\n",
      "210/210 [==============================] - 0s 2ms/step - loss: 1.4591 - accuracy: 0.5400 - binary_crossentropy: 1.4591\n",
      "Epoch 8/150\n",
      "210/210 [==============================] - 0s 2ms/step - loss: 2.1868 - accuracy: 0.5400 - binary_crossentropy: 2.1868\n",
      "Epoch 9/150\n",
      "210/210 [==============================] - 0s 2ms/step - loss: 2.4982 - accuracy: 0.5219 - binary_crossentropy: 2.4982\n",
      "Epoch 10/150\n",
      "210/210 [==============================] - 0s 2ms/step - loss: 1.5188 - accuracy: 0.5533 - binary_crossentropy: 1.5188\n",
      "Epoch 11/150\n",
      "210/210 [==============================] - 0s 2ms/step - loss: 1.3999 - accuracy: 0.5733 - binary_crossentropy: 1.3999\n",
      "Epoch 12/150\n",
      "210/210 [==============================] - 0s 2ms/step - loss: 1.5509 - accuracy: 0.5543 - binary_crossentropy: 1.5509\n",
      "Epoch 13/150\n",
      "210/210 [==============================] - 0s 2ms/step - loss: 1.3211 - accuracy: 0.5514 - binary_crossentropy: 1.3211\n",
      "Epoch 14/150\n",
      "210/210 [==============================] - 0s 2ms/step - loss: 1.4708 - accuracy: 0.5771 - binary_crossentropy: 1.4708\n",
      "Epoch 15/150\n",
      "210/210 [==============================] - 0s 2ms/step - loss: 1.2661 - accuracy: 0.5924 - binary_crossentropy: 1.2661\n",
      "Epoch 16/150\n",
      "210/210 [==============================] - 0s 2ms/step - loss: 1.5312 - accuracy: 0.5705 - binary_crossentropy: 1.5312\n",
      "Epoch 17/150\n",
      "210/210 [==============================] - 0s 2ms/step - loss: 1.6150 - accuracy: 0.6010 - binary_crossentropy: 1.6150\n",
      "Epoch 18/150\n",
      "210/210 [==============================] - 0s 2ms/step - loss: 1.4613 - accuracy: 0.6029 - binary_crossentropy: 1.4613\n",
      "Epoch 19/150\n",
      "210/210 [==============================] - 0s 2ms/step - loss: 2.3566 - accuracy: 0.5657 - binary_crossentropy: 2.3566\n",
      "Epoch 20/150\n",
      "210/210 [==============================] - 0s 2ms/step - loss: 1.5403 - accuracy: 0.6067 - binary_crossentropy: 1.5403\n",
      "Epoch 21/150\n",
      "210/210 [==============================] - 0s 2ms/step - loss: 1.7931 - accuracy: 0.5886 - binary_crossentropy: 1.7931\n",
      "Epoch 22/150\n",
      "210/210 [==============================] - 0s 2ms/step - loss: 1.4641 - accuracy: 0.6171 - binary_crossentropy: 1.4641\n",
      "Epoch 23/150\n",
      "210/210 [==============================] - 0s 2ms/step - loss: 1.3279 - accuracy: 0.6362 - binary_crossentropy: 1.3279\n",
      "Epoch 24/150\n",
      "210/210 [==============================] - 0s 2ms/step - loss: 1.0232 - accuracy: 0.6838 - binary_crossentropy: 1.0232\n",
      "Epoch 25/150\n",
      "210/210 [==============================] - 0s 2ms/step - loss: 1.1368 - accuracy: 0.6476 - binary_crossentropy: 1.1368\n",
      "Epoch 26/150\n",
      "210/210 [==============================] - 0s 2ms/step - loss: 1.2359 - accuracy: 0.6743 - binary_crossentropy: 1.2359\n",
      "Epoch 27/150\n",
      "210/210 [==============================] - 0s 2ms/step - loss: 2.1811 - accuracy: 0.6229 - binary_crossentropy: 2.1811\n",
      "Epoch 28/150\n",
      "210/210 [==============================] - 0s 2ms/step - loss: 1.2796 - accuracy: 0.6476 - binary_crossentropy: 1.2796\n",
      "Epoch 29/150\n",
      "210/210 [==============================] - 0s 2ms/step - loss: 1.1689 - accuracy: 0.6648 - binary_crossentropy: 1.1689\n",
      "Epoch 30/150\n",
      "210/210 [==============================] - 0s 2ms/step - loss: 1.0182 - accuracy: 0.6695 - binary_crossentropy: 1.0182\n",
      "Epoch 31/150\n",
      "210/210 [==============================] - 0s 2ms/step - loss: 1.1960 - accuracy: 0.6552 - binary_crossentropy: 1.1960\n",
      "Epoch 32/150\n",
      "210/210 [==============================] - 0s 2ms/step - loss: 0.8535 - accuracy: 0.7019 - binary_crossentropy: 0.8535\n",
      "Epoch 33/150\n",
      "210/210 [==============================] - 0s 2ms/step - loss: 1.0687 - accuracy: 0.6590 - binary_crossentropy: 1.0687\n",
      "Epoch 34/150\n",
      "210/210 [==============================] - 0s 2ms/step - loss: 0.9365 - accuracy: 0.7048 - binary_crossentropy: 0.9365\n",
      "Epoch 35/150\n",
      "210/210 [==============================] - 0s 2ms/step - loss: 0.9468 - accuracy: 0.6705 - binary_crossentropy: 0.9468\n",
      "Epoch 36/150\n",
      "210/210 [==============================] - 0s 2ms/step - loss: 1.2670 - accuracy: 0.6486 - binary_crossentropy: 1.2670\n",
      "Epoch 37/150\n",
      "210/210 [==============================] - 0s 2ms/step - loss: 0.7103 - accuracy: 0.7210 - binary_crossentropy: 0.7103\n",
      "Epoch 38/150\n",
      "210/210 [==============================] - 0s 2ms/step - loss: 0.7969 - accuracy: 0.7076 - binary_crossentropy: 0.7969\n",
      "Epoch 39/150\n",
      "210/210 [==============================] - 0s 2ms/step - loss: 0.7659 - accuracy: 0.7057 - binary_crossentropy: 0.7659\n",
      "Epoch 40/150\n",
      "210/210 [==============================] - 0s 2ms/step - loss: 0.7816 - accuracy: 0.7086 - binary_crossentropy: 0.7816\n",
      "Epoch 41/150\n",
      "210/210 [==============================] - 1s 3ms/step - loss: 0.7850 - accuracy: 0.7105 - binary_crossentropy: 0.7850: 0s - loss: 0.7796 - accuracy: 0.7121 - binary_crossentropy: 0.77\n",
      "Epoch 42/150\n",
      "210/210 [==============================] - 1s 5ms/step - loss: 0.6952 - accuracy: 0.7257 - binary_crossentropy: 0.6952: 1s - loss: 0.8082 - accu\n",
      "Epoch 43/150\n",
      "210/210 [==============================] - 1s 3ms/step - loss: 0.6887 - accuracy: 0.7438 - binary_crossentropy: 0.6887\n",
      "Epoch 44/150\n",
      "210/210 [==============================] - 0s 2ms/step - loss: 1.0716 - accuracy: 0.6638 - binary_crossentropy: 1.0716\n",
      "Epoch 45/150\n",
      "210/210 [==============================] - 0s 2ms/step - loss: 0.8782 - accuracy: 0.6686 - binary_crossentropy: 0.8782\n",
      "Epoch 46/150\n",
      "210/210 [==============================] - 0s 2ms/step - loss: 0.9350 - accuracy: 0.6714 - binary_crossentropy: 0.9350\n",
      "Epoch 47/150\n",
      "210/210 [==============================] - 0s 2ms/step - loss: 0.7688 - accuracy: 0.6971 - binary_crossentropy: 0.7688\n",
      "Epoch 48/150\n",
      "210/210 [==============================] - 0s 2ms/step - loss: 0.6937 - accuracy: 0.7219 - binary_crossentropy: 0.6937\n",
      "Epoch 49/150\n",
      "210/210 [==============================] - 0s 2ms/step - loss: 0.6577 - accuracy: 0.7152 - binary_crossentropy: 0.6577\n",
      "Epoch 50/150\n",
      "210/210 [==============================] - 0s 2ms/step - loss: 0.8956 - accuracy: 0.7133 - binary_crossentropy: 0.8956\n",
      "Epoch 51/150\n",
      "210/210 [==============================] - 0s 2ms/step - loss: 0.6382 - accuracy: 0.7324 - binary_crossentropy: 0.6382\n",
      "Epoch 52/150\n",
      "210/210 [==============================] - 0s 2ms/step - loss: 0.6157 - accuracy: 0.7524 - binary_crossentropy: 0.6157\n",
      "Epoch 53/150\n",
      "210/210 [==============================] - 0s 2ms/step - loss: 0.6674 - accuracy: 0.7210 - binary_crossentropy: 0.6674\n",
      "Epoch 54/150\n",
      "210/210 [==============================] - 0s 2ms/step - loss: 0.7428 - accuracy: 0.6971 - binary_crossentropy: 0.7428\n",
      "Epoch 55/150\n",
      "210/210 [==============================] - 0s 2ms/step - loss: 0.7172 - accuracy: 0.7000 - binary_crossentropy: 0.7172\n",
      "Epoch 56/150\n",
      "210/210 [==============================] - 0s 2ms/step - loss: 0.5917 - accuracy: 0.7562 - binary_crossentropy: 0.5917\n",
      "Epoch 57/150\n",
      "210/210 [==============================] - 0s 2ms/step - loss: 0.6986 - accuracy: 0.6971 - binary_crossentropy: 0.6986\n",
      "Epoch 58/150\n",
      "210/210 [==============================] - 0s 2ms/step - loss: 0.6364 - accuracy: 0.7390 - binary_crossentropy: 0.6364\n",
      "Epoch 59/150\n",
      "210/210 [==============================] - 0s 2ms/step - loss: 0.6088 - accuracy: 0.7505 - binary_crossentropy: 0.6088\n",
      "Epoch 60/150\n",
      "210/210 [==============================] - 0s 2ms/step - loss: 0.5948 - accuracy: 0.7381 - binary_crossentropy: 0.5948\n",
      "Epoch 61/150\n",
      "210/210 [==============================] - 0s 2ms/step - loss: 0.6304 - accuracy: 0.7343 - binary_crossentropy: 0.6304\n",
      "Epoch 62/150\n",
      "210/210 [==============================] - ETA: 0s - loss: 0.5965 - accuracy: 0.7307 - binary_crossentropy: 0.59 - 0s 2ms/step - loss: 0.5996 - accuracy: 0.7276 - binary_crossentropy: 0.5996\n",
      "Epoch 63/150\n",
      "210/210 [==============================] - 0s 2ms/step - loss: 0.6269 - accuracy: 0.7267 - binary_crossentropy: 0.6269\n",
      "Epoch 64/150\n",
      "210/210 [==============================] - 0s 2ms/step - loss: 0.5406 - accuracy: 0.7695 - binary_crossentropy: 0.5406\n",
      "Epoch 65/150\n",
      "210/210 [==============================] - 0s 2ms/step - loss: 0.5831 - accuracy: 0.7429 - binary_crossentropy: 0.5831\n",
      "Epoch 66/150\n",
      "210/210 [==============================] - 0s 2ms/step - loss: 0.5930 - accuracy: 0.7381 - binary_crossentropy: 0.5930\n",
      "Epoch 67/150\n",
      "210/210 [==============================] - 0s 2ms/step - loss: 0.5299 - accuracy: 0.7638 - binary_crossentropy: 0.5299\n",
      "Epoch 68/150\n",
      "210/210 [==============================] - 0s 2ms/step - loss: 0.4979 - accuracy: 0.7886 - binary_crossentropy: 0.4979\n",
      "Epoch 69/150\n",
      "210/210 [==============================] - 0s 2ms/step - loss: 0.5668 - accuracy: 0.7419 - binary_crossentropy: 0.5668\n",
      "Epoch 70/150\n",
      "210/210 [==============================] - 0s 2ms/step - loss: 0.5864 - accuracy: 0.7495 - binary_crossentropy: 0.5864\n",
      "Epoch 71/150\n",
      "210/210 [==============================] - 0s 2ms/step - loss: 0.5590 - accuracy: 0.7400 - binary_crossentropy: 0.5590\n",
      "Epoch 72/150\n",
      "210/210 [==============================] - 0s 2ms/step - loss: 0.4993 - accuracy: 0.7838 - binary_crossentropy: 0.4993\n",
      "Epoch 73/150\n",
      "210/210 [==============================] - 0s 2ms/step - loss: 0.5311 - accuracy: 0.7495 - binary_crossentropy: 0.5311\n",
      "Epoch 74/150\n",
      "210/210 [==============================] - 0s 2ms/step - loss: 0.5776 - accuracy: 0.7381 - binary_crossentropy: 0.5776\n",
      "Epoch 75/150\n",
      "210/210 [==============================] - 0s 2ms/step - loss: 0.5493 - accuracy: 0.7533 - binary_crossentropy: 0.5493\n",
      "Epoch 76/150\n",
      "210/210 [==============================] - 0s 2ms/step - loss: 0.5342 - accuracy: 0.7533 - binary_crossentropy: 0.5342: 0s - loss: 0.6161 - accuracy: 0.7103 - binary_crossent\n",
      "Epoch 77/150\n",
      "210/210 [==============================] - 0s 2ms/step - loss: 0.5194 - accuracy: 0.7619 - binary_crossentropy: 0.5194\n",
      "Epoch 78/150\n",
      "210/210 [==============================] - 0s 2ms/step - loss: 0.6174 - accuracy: 0.6848 - binary_crossentropy: 0.6174\n",
      "Epoch 79/150\n",
      "210/210 [==============================] - 0s 2ms/step - loss: 0.5323 - accuracy: 0.7686 - binary_crossentropy: 0.5323: 0s - loss: 0.5636 - accuracy: 0.7423 - binary_crossentropy: \n",
      "Epoch 80/150\n",
      "210/210 [==============================] - 0s 2ms/step - loss: 0.5285 - accuracy: 0.7610 - binary_crossentropy: 0.5285\n",
      "Epoch 81/150\n",
      "210/210 [==============================] - 1s 3ms/step - loss: 0.5247 - accuracy: 0.7629 - binary_crossentropy: 0.5247\n",
      "Epoch 82/150\n",
      "210/210 [==============================] - 1s 5ms/step - loss: 0.4976 - accuracy: 0.7724 - binary_crossentropy: 0.4976\n",
      "Epoch 83/150\n",
      "210/210 [==============================] - 0s 2ms/step - loss: 0.5170 - accuracy: 0.7705 - binary_crossentropy: 0.5170\n",
      "Epoch 84/150\n",
      "210/210 [==============================] - 0s 2ms/step - loss: 0.5422 - accuracy: 0.7562 - binary_crossentropy: 0.5422\n",
      "Epoch 85/150\n",
      "210/210 [==============================] - 0s 2ms/step - loss: 0.5805 - accuracy: 0.7114 - binary_crossentropy: 0.5805\n",
      "Epoch 86/150\n",
      "210/210 [==============================] - 0s 2ms/step - loss: 0.5242 - accuracy: 0.7600 - binary_crossentropy: 0.5242\n",
      "Epoch 87/150\n",
      "210/210 [==============================] - 0s 2ms/step - loss: 0.6083 - accuracy: 0.6629 - binary_crossentropy: 0.6083\n",
      "Epoch 88/150\n",
      "210/210 [==============================] - 0s 2ms/step - loss: 0.5783 - accuracy: 0.7152 - binary_crossentropy: 0.5783\n",
      "Epoch 89/150\n",
      "210/210 [==============================] - 0s 2ms/step - loss: 0.5583 - accuracy: 0.7267 - binary_crossentropy: 0.5583\n",
      "Epoch 90/150\n",
      "210/210 [==============================] - 0s 2ms/step - loss: 0.6198 - accuracy: 0.6543 - binary_crossentropy: 0.6198\n",
      "Epoch 91/150\n",
      "210/210 [==============================] - 0s 2ms/step - loss: 0.5219 - accuracy: 0.7552 - binary_crossentropy: 0.5219\n",
      "Epoch 92/150\n",
      "210/210 [==============================] - 0s 2ms/step - loss: 0.5413 - accuracy: 0.7552 - binary_crossentropy: 0.5413\n",
      "Epoch 93/150\n",
      "210/210 [==============================] - 0s 2ms/step - loss: 0.6061 - accuracy: 0.6810 - binary_crossentropy: 0.6061\n",
      "Epoch 94/150\n",
      "210/210 [==============================] - 0s 2ms/step - loss: 0.5326 - accuracy: 0.7448 - binary_crossentropy: 0.5326\n",
      "Epoch 95/150\n",
      "210/210 [==============================] - 0s 2ms/step - loss: 0.5350 - accuracy: 0.7486 - binary_crossentropy: 0.5350\n",
      "Epoch 96/150\n",
      "210/210 [==============================] - 0s 2ms/step - loss: 0.5361 - accuracy: 0.7505 - binary_crossentropy: 0.5361\n",
      "Epoch 97/150\n",
      "210/210 [==============================] - 0s 2ms/step - loss: 0.5244 - accuracy: 0.7581 - binary_crossentropy: 0.5244\n",
      "Epoch 98/150\n",
      "210/210 [==============================] - 0s 2ms/step - loss: 0.5291 - accuracy: 0.7581 - binary_crossentropy: 0.5291\n",
      "Epoch 99/150\n",
      "210/210 [==============================] - 0s 2ms/step - loss: 0.5098 - accuracy: 0.7686 - binary_crossentropy: 0.5098\n",
      "Epoch 100/150\n",
      "210/210 [==============================] - 0s 2ms/step - loss: 0.5632 - accuracy: 0.7200 - binary_crossentropy: 0.5632\n",
      "Epoch 101/150\n",
      "210/210 [==============================] - 0s 2ms/step - loss: 0.5853 - accuracy: 0.7076 - binary_crossentropy: 0.5853\n",
      "Epoch 102/150\n",
      "210/210 [==============================] - 0s 2ms/step - loss: 0.5156 - accuracy: 0.7667 - binary_crossentropy: 0.5156\n",
      "Epoch 103/150\n",
      "210/210 [==============================] - 0s 2ms/step - loss: 0.5168 - accuracy: 0.7648 - binary_crossentropy: 0.5168\n",
      "Epoch 104/150\n",
      "210/210 [==============================] - 0s 2ms/step - loss: 0.4926 - accuracy: 0.7857 - binary_crossentropy: 0.4926\n",
      "Epoch 105/150\n",
      "210/210 [==============================] - 0s 2ms/step - loss: 0.5244 - accuracy: 0.7581 - binary_crossentropy: 0.5244\n",
      "Epoch 106/150\n",
      "210/210 [==============================] - 0s 2ms/step - loss: 0.5078 - accuracy: 0.7724 - binary_crossentropy: 0.5078\n",
      "Epoch 107/150\n",
      "210/210 [==============================] - 0s 2ms/step - loss: 0.5394 - accuracy: 0.7581 - binary_crossentropy: 0.5394\n",
      "Epoch 108/150\n",
      "210/210 [==============================] - 0s 2ms/step - loss: 0.5768 - accuracy: 0.7200 - binary_crossentropy: 0.5768\n",
      "Epoch 109/150\n",
      "210/210 [==============================] - 0s 2ms/step - loss: 0.5657 - accuracy: 0.7333 - binary_crossentropy: 0.5657\n",
      "Epoch 110/150\n",
      "210/210 [==============================] - 0s 2ms/step - loss: 0.5425 - accuracy: 0.7533 - binary_crossentropy: 0.5425\n",
      "Epoch 111/150\n",
      "210/210 [==============================] - 0s 2ms/step - loss: 0.5039 - accuracy: 0.7790 - binary_crossentropy: 0.5039\n",
      "Epoch 112/150\n",
      "210/210 [==============================] - 0s 2ms/step - loss: 0.4935 - accuracy: 0.7790 - binary_crossentropy: 0.4935\n",
      "Epoch 113/150\n",
      "210/210 [==============================] - 0s 2ms/step - loss: 0.4961 - accuracy: 0.7752 - binary_crossentropy: 0.4961\n",
      "Epoch 114/150\n",
      "210/210 [==============================] - 0s 2ms/step - loss: 0.4995 - accuracy: 0.7800 - binary_crossentropy: 0.4995\n",
      "Epoch 115/150\n",
      "210/210 [==============================] - 0s 2ms/step - loss: 0.5531 - accuracy: 0.7352 - binary_crossentropy: 0.5531\n",
      "Epoch 116/150\n",
      "210/210 [==============================] - 0s 2ms/step - loss: 0.5002 - accuracy: 0.7810 - binary_crossentropy: 0.5002\n",
      "Epoch 117/150\n",
      "210/210 [==============================] - 0s 2ms/step - loss: 0.4887 - accuracy: 0.7819 - binary_crossentropy: 0.4887\n",
      "Epoch 118/150\n",
      "210/210 [==============================] - 0s 2ms/step - loss: 0.4957 - accuracy: 0.7790 - binary_crossentropy: 0.4957\n",
      "Epoch 119/150\n",
      "210/210 [==============================] - 0s 2ms/step - loss: 0.5135 - accuracy: 0.7686 - binary_crossentropy: 0.5135\n",
      "Epoch 120/150\n",
      "210/210 [==============================] - 0s 2ms/step - loss: 0.5111 - accuracy: 0.7686 - binary_crossentropy: 0.5111\n",
      "Epoch 121/150\n",
      "210/210 [==============================] - 0s 2ms/step - loss: 0.5145 - accuracy: 0.7629 - binary_crossentropy: 0.5145\n",
      "Epoch 122/150\n"
     ]
    },
    {
     "name": "stdout",
     "output_type": "stream",
     "text": [
      "210/210 [==============================] - 0s 2ms/step - loss: 0.5215 - accuracy: 0.7590 - binary_crossentropy: 0.5215\n",
      "Epoch 123/150\n",
      "210/210 [==============================] - 1s 3ms/step - loss: 0.4876 - accuracy: 0.7762 - binary_crossentropy: 0.4876\n",
      "Epoch 124/150\n",
      "210/210 [==============================] - 1s 4ms/step - loss: 0.5157 - accuracy: 0.7686 - binary_crossentropy: 0.5157\n",
      "Epoch 125/150\n",
      "210/210 [==============================] - 0s 2ms/step - loss: 0.5726 - accuracy: 0.7219 - binary_crossentropy: 0.5726\n",
      "Epoch 126/150\n",
      "210/210 [==============================] - 0s 1ms/step - loss: 0.4976 - accuracy: 0.7762 - binary_crossentropy: 0.4976\n",
      "Epoch 127/150\n",
      "210/210 [==============================] - 0s 2ms/step - loss: 0.4898 - accuracy: 0.7743 - binary_crossentropy: 0.4898\n",
      "Epoch 128/150\n",
      "210/210 [==============================] - 0s 2ms/step - loss: 0.5100 - accuracy: 0.7676 - binary_crossentropy: 0.5100\n",
      "Epoch 129/150\n",
      "210/210 [==============================] - 0s 2ms/step - loss: 0.4938 - accuracy: 0.7848 - binary_crossentropy: 0.4938\n",
      "Epoch 130/150\n",
      "210/210 [==============================] - 0s 2ms/step - loss: 0.5207 - accuracy: 0.7610 - binary_crossentropy: 0.5207\n",
      "Epoch 131/150\n",
      "210/210 [==============================] - 0s 1ms/step - loss: 0.4840 - accuracy: 0.7857 - binary_crossentropy: 0.4840\n",
      "Epoch 132/150\n",
      "210/210 [==============================] - 0s 1ms/step - loss: 0.4951 - accuracy: 0.7829 - binary_crossentropy: 0.4951\n",
      "Epoch 133/150\n",
      "210/210 [==============================] - 0s 2ms/step - loss: 0.5092 - accuracy: 0.7771 - binary_crossentropy: 0.5092\n",
      "Epoch 134/150\n",
      "210/210 [==============================] - 0s 2ms/step - loss: 0.5445 - accuracy: 0.7410 - binary_crossentropy: 0.5445\n",
      "Epoch 135/150\n",
      "210/210 [==============================] - 0s 2ms/step - loss: 0.5000 - accuracy: 0.7724 - binary_crossentropy: 0.5000\n",
      "Epoch 136/150\n",
      "210/210 [==============================] - 0s 2ms/step - loss: 0.4776 - accuracy: 0.7867 - binary_crossentropy: 0.4776\n",
      "Epoch 137/150\n",
      "210/210 [==============================] - 0s 2ms/step - loss: 0.5378 - accuracy: 0.7543 - binary_crossentropy: 0.5378\n",
      "Epoch 138/150\n",
      "210/210 [==============================] - 0s 2ms/step - loss: 0.4820 - accuracy: 0.7800 - binary_crossentropy: 0.4820\n",
      "Epoch 139/150\n",
      "210/210 [==============================] - 0s 2ms/step - loss: 0.4715 - accuracy: 0.7867 - binary_crossentropy: 0.4715\n",
      "Epoch 140/150\n",
      "210/210 [==============================] - 0s 2ms/step - loss: 0.4796 - accuracy: 0.7990 - binary_crossentropy: 0.4796\n",
      "Epoch 141/150\n",
      "210/210 [==============================] - 0s 2ms/step - loss: 0.4686 - accuracy: 0.7943 - binary_crossentropy: 0.4686\n",
      "Epoch 142/150\n",
      "210/210 [==============================] - 0s 2ms/step - loss: 0.4770 - accuracy: 0.8000 - binary_crossentropy: 0.4770\n",
      "Epoch 143/150\n",
      "210/210 [==============================] - 0s 2ms/step - loss: 0.4634 - accuracy: 0.8019 - binary_crossentropy: 0.4634\n",
      "Epoch 144/150\n",
      "210/210 [==============================] - 0s 2ms/step - loss: 0.5108 - accuracy: 0.7724 - binary_crossentropy: 0.5108\n",
      "Epoch 145/150\n",
      "210/210 [==============================] - 0s 2ms/step - loss: 0.4959 - accuracy: 0.7695 - binary_crossentropy: 0.4959\n",
      "Epoch 146/150\n",
      "210/210 [==============================] - 0s 2ms/step - loss: 0.4728 - accuracy: 0.8000 - binary_crossentropy: 0.4728\n",
      "Epoch 147/150\n",
      "210/210 [==============================] - 0s 2ms/step - loss: 0.4595 - accuracy: 0.8019 - binary_crossentropy: 0.4595\n",
      "Epoch 148/150\n",
      "210/210 [==============================] - 0s 2ms/step - loss: 0.4884 - accuracy: 0.7895 - binary_crossentropy: 0.4884\n",
      "Epoch 149/150\n",
      "210/210 [==============================] - 0s 2ms/step - loss: 0.4674 - accuracy: 0.7962 - binary_crossentropy: 0.4674\n",
      "Epoch 150/150\n",
      "210/210 [==============================] - 0s 2ms/step - loss: 0.4754 - accuracy: 0.7876 - binary_crossentropy: 0.4754\n"
     ]
    },
    {
     "data": {
      "text/plain": [
       "<tensorflow.python.keras.callbacks.History at 0x21673ba9730>"
      ]
     },
     "execution_count": 100,
     "metadata": {},
     "output_type": "execute_result"
    }
   ],
   "source": [
    "# define the model\n",
    "model = Sequential()\n",
    "\n",
    "# hidden layer mit 39 inputs, 10 units\n",
    "model.add(Dense(20, input_dim=39, activation='relu'))\n",
    "model.add(Dense(10, activation='relu'))\n",
    "model.add(Dense(20, activation = 'relu'))\n",
    "\n",
    "# output layer\n",
    "model.add(Dense(1, activation='sigmoid'))\n",
    "\n",
    "# For a multi-class classification problem\n",
    "history = model.compile(loss='binary_crossentropy', optimizer='adam', metrics=['accuracy', 'binary_crossentropy'])\n",
    "\n",
    "\n",
    "model.fit(X_train, y_train, epochs=150, batch_size=5)"
   ]
  },
  {
   "cell_type": "code",
   "execution_count": 101,
   "id": "300eb500",
   "metadata": {},
   "outputs": [
    {
     "name": "stdout",
     "output_type": "stream",
     "text": [
      "{'loss': 0.5262203812599182, 'accuracy': 0.7552381157875061, 'binary_crossentropy': 0.5262203812599182}\n"
     ]
    }
   ],
   "source": [
    "result = model.evaluate(X_train,y_train, verbose=0)\n",
    "print(dict(zip(model.metrics_names, result)))"
   ]
  },
  {
   "cell_type": "code",
   "execution_count": null,
   "id": "e3015c22",
   "metadata": {},
   "outputs": [],
   "source": []
  }
 ],
 "metadata": {
  "kernelspec": {
   "display_name": "Python 3",
   "language": "python",
   "name": "python3"
  },
  "language_info": {
   "codemirror_mode": {
    "name": "ipython",
    "version": 3
   },
   "file_extension": ".py",
   "mimetype": "text/x-python",
   "name": "python",
   "nbconvert_exporter": "python",
   "pygments_lexer": "ipython3",
   "version": "3.8.8"
  }
 },
 "nbformat": 4,
 "nbformat_minor": 5
}
