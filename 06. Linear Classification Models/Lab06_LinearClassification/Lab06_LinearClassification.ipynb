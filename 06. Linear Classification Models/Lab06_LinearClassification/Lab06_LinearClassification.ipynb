{
 "cells": [
  {
   "cell_type": "markdown",
   "metadata": {},
   "source": [
    "# Linear Classification\n",
    "\n",
    "In this lab you will implement parts of a linear classification model using the regularized empirical risk minimization principle. By completing this lab and analysing the code, you gain deeper understanding of these type of models, and of gradient descent.\n",
    "\n",
    "\n",
    "## Problem Setting\n",
    "\n",
    "The dataset describes diagnosing of cardiac Single Proton Emission Computed Tomography (SPECT) images. Each of the patients is classified into two categories: normal (1) and abnormal (0). The training data contains 80 SPECT images from which 22 binary features have been extracted. The goal is to predict the label for an unseen test set of 187 tomography images."
   ]
  },
  {
   "cell_type": "code",
   "execution_count": 1,
   "metadata": {
    "scrolled": true
   },
   "outputs": [],
   "source": [
    "import urllib\n",
    "import pandas as pd\n",
    "import numpy as np\n",
    "# for auto-reloading external modules\n",
    "# see http://stackoverflow.com/questions/1907993/autoreload-of-modules-in-ipython\n",
    "%load_ext autoreload\n",
    "%autoreload 2\n",
    "\n",
    "testfile = urllib.request.URLopener()\n",
    "testfile.retrieve(\"http://archive.ics.uci.edu/ml/machine-learning-databases/spect/SPECT.train\", \"SPECT.train\")\n",
    "testfile.retrieve(\"http://archive.ics.uci.edu/ml/machine-learning-databases/spect/SPECT.test\", \"SPECT.test\")\n",
    "\n",
    "df_train = pd.read_csv('SPECT.train',header=None)\n",
    "df_test = pd.read_csv('SPECT.test',header=None)\n",
    "\n",
    "train = df_train.values\n",
    "test = df_test.values\n",
    "\n",
    "y_train = train[:,0]\n",
    "X_train = train[:,1:]\n",
    "y_test = test[:,0]\n",
    "X_test = test[:,1:]"
   ]
  },
  {
   "cell_type": "markdown",
   "metadata": {},
   "source": [
    "### Exercise 1\n",
    "\n",
    "Analyze the function learn_reg_ERM(X,y,lambda) which for a given $n\\times m$ data matrix $\\textbf{X}$ and binary class label $\\textbf{y}$ learns and returns a linear model $\\textbf{w}$.\n",
    "The binary class label has to be transformed so that its range is $\\left \\{-1,1 \\right \\}$. \n",
    "The trade-off parameter between the empirical loss and the regularizer is given by $\\lambda > 0$. \n",
    "To adapt the learning rate the Barzilai-Borwein method is used.\n",
    "\n",
    "Try to understand each step of the learning algorithm and comment each line.\n"
   ]
  },
  {
   "cell_type": "code",
   "execution_count": 2,
   "metadata": {},
   "outputs": [],
   "source": [
    "def learn_reg_ERM(X,y,lbda):\n",
    "    max_iter = 200\n",
    "    #boundary e\n",
    "    e  = 0.001\n",
    "    \n",
    "    #step size alpha\n",
    "    alpha = 1.\n",
    "    \n",
    "    # initialize the weigths vector randomly. it must have the same number of rows as \n",
    "    # there are features in the input matrix = 22\n",
    "    w = np.random.randn(X.shape[1]);\n",
    "    #print(w)\n",
    "    \n",
    "    for k in np.arange(max_iter):\n",
    "        # multiply input vector by the current weight vector\n",
    "        h = np.dot(X,w)\n",
    "        \n",
    "        # calculate loss between predicted and true labels and gradient\n",
    "        l,lg = loss(h, y)\n",
    "        print ('loss: {}'.format(np.mean(l)))\n",
    "        \n",
    "        # compute reglarizer for the current weight vector w\n",
    "        r,rg = reg(w, lbda)\n",
    "        \n",
    "        # compute gradient\n",
    "        g = np.dot(X.T,lg) + rg \n",
    "        \n",
    "        # update learning rate\n",
    "        if (k > 0):\n",
    "            alpha = alpha * (np.dot(g_old.T,g_old))/(np.dot((g_old - g).T,g_old)) \n",
    "            \n",
    "        #update weights\n",
    "        w = w - alpha * g\n",
    "        if (np.linalg.norm(alpha * g) < e):\n",
    "            break\n",
    "        g_old = g\n",
    "    return w"
   ]
  },
  {
   "cell_type": "markdown",
   "metadata": {},
   "source": [
    "### Exercise 2\n",
    "\n",
    "Fill in the code for the function loss(h,y) which computes the hinge loss and its gradient. \n",
    "This function takes a given vector $\\textbf{y}$ with the true labels $\\in \\left \\{-1,1\\right \\}$ and a vector $\\textbf{h}$ with the function values of the linear model as inputs. The function returns a vector $\\textbf{l}$ with the hinge loss $\\max(0, 1 − y_{i} h_{i})$ and a vector $\\textbf{g}$ with the gradients of the hinge loss w.r.t $\\textbf{h}$. (Note: The partial derivative of the hinge loss with respect to $\\textbf{h}$  is $g_{i} = −y $ if $l_{i} > 0$, else $g_{i} = 0$)"
   ]
  },
  {
   "cell_type": "code",
   "execution_count": 3,
   "metadata": {},
   "outputs": [],
   "source": [
    "def loss(h, y):\n",
    "    ##################\n",
    "    #INSERT CODE HERE#\n",
    "    ##################\n",
    "    \n",
    "    # hinge loss ; maximum value\n",
    "    l = np.maximum(0, 1 - y * h)\n",
    "    \n",
    "    # gradient if (l > 0)\n",
    "    g = - y * (l > 0)\n",
    "    \n",
    "    return l, g"
   ]
  },
  {
   "cell_type": "markdown",
   "metadata": {},
   "source": [
    "### Exercise 3\n",
    "\n",
    "Fill in the code for the function reg(w,lambda) which computes the $\\mathcal{L}_2$-regularizer and the gradient of the regularizer function at point $\\textbf{w}$. \n",
    "\n",
    "\n",
    "$$r = \\frac{\\lambda}{2} \\textbf{w}^{T}\\textbf{w}$$\n",
    "\n",
    "$$g = \\lambda \\textbf{w}$$"
   ]
  },
  {
   "cell_type": "code",
   "execution_count": 4,
   "metadata": {},
   "outputs": [],
   "source": [
    "def reg(w, lbda):\n",
    "    ##################\n",
    "    #INSERT CODE HERE#\n",
    "    ##################\n",
    "    r = (lbda / 2) * w.dot(w.T)\n",
    "    \n",
    "    g = lbda * w\n",
    "    \n",
    "    return r, g"
   ]
  },
  {
   "cell_type": "markdown",
   "metadata": {},
   "source": [
    "### Exercise 4\n",
    "\n",
    "Fill in the code for the function predict(w,x) which predicts the class label $y$ for a data point $\\textbf{x}$ or a matrix $X$ of data points (row-wise) for a previously trained linear model $\\textbf{w}$. If there is only a data point given, the function is supposed to return a scalar value. If a matrix is given a vector of predictions is supposed to be returned."
   ]
  },
  {
   "cell_type": "code",
   "execution_count": 5,
   "metadata": {},
   "outputs": [],
   "source": [
    "def predict(w, X):\n",
    "    ##################\n",
    "    #INSERT CODE HERE#\n",
    "    ##################\n",
    "    preds = 2 * (np.dot(X,w) > 0) - 1\n",
    "    return preds"
   ]
  },
  {
   "cell_type": "markdown",
   "metadata": {},
   "source": [
    "### Exercise 5\n",
    "\n",
    "#### 5.1 \n",
    "Train a linear model on the training data and classify all 187 test instances afterwards using the function predict. \n",
    "Please note that the given class labels are in the range $\\left \\{0,1 \\right \\}$, however the learning algorithm expects a label in the range of $\\left \\{-1,1 \\right \\}$. Then, compute the accuracy of your trained linear model on both the training and the test data. "
   ]
  },
  {
   "cell_type": "code",
   "execution_count": 6,
   "metadata": {},
   "outputs": [],
   "source": [
    "def accuracy(y, y_hat):\n",
    "    return 100.0*np.sum(y_hat == y) / len(y)"
   ]
  },
  {
   "cell_type": "code",
   "execution_count": 7,
   "metadata": {},
   "outputs": [
    {
     "name": "stdout",
     "output_type": "stream",
     "text": [
      "loss: 1.2193076176412343\n",
      "loss: 6.313700146791172\n",
      "loss: 0.8166806089477692\n",
      "loss: 1.6190565625559774\n",
      "loss: 0.8439935409401398\n",
      "loss: 0.7406853511357595\n",
      "loss: 0.7463956014892199\n",
      "loss: 0.7314931910283912\n",
      "loss: 0.7256158787225114\n",
      "loss: 0.7225326803223044\n",
      "loss: 0.7244553657285913\n",
      "loss: 0.7217521675615494\n",
      "loss: 0.7205499807519689\n",
      "loss: 0.7212500000000001\n",
      "loss: 0.7940290709523883\n",
      "loss: 0.7225934670602635\n",
      "loss: 0.7177614674724344\n",
      "loss: 0.7189644721411605\n",
      "loss: 0.7186234991827384\n",
      "loss: 0.717921698238402\n",
      "loss: 0.7185221638464482\n",
      "loss: 0.7179828484817979\n",
      "loss: 0.7183319906649517\n",
      "loss: 0.7181688316595415\n",
      "loss: 0.7185764390489908\n",
      "loss: 0.7183515661154587\n",
      "loss: 0.7180375106594685\n",
      "loss: 0.7181291485210263\n",
      "loss: 0.721048145725923\n",
      "loss: 0.7193940050134241\n",
      "loss: 0.7198398769986876\n",
      "loss: 0.7205172800683037\n",
      "loss: 0.7197972254282012\n",
      "loss: 0.7189291729312185\n",
      "loss: 0.7186009582163766\n",
      "loss: 0.7182035849655698\n",
      "loss: 0.7188237673233117\n",
      "loss: 0.7184499731333942\n",
      "loss: 0.7599999999999999\n",
      "loss: 0.7307654063360047\n",
      "loss: 0.7256394437719835\n",
      "loss: 0.7232618271091174\n",
      "loss: 0.7210157269010811\n",
      "loss: 0.7211546019383469\n",
      "loss: 0.7205062537906002\n",
      "loss: 0.7204707490575668\n",
      "loss: 0.7202428499201451\n",
      "loss: 0.7195438180607538\n",
      "loss: 0.7192052046361004\n",
      "loss: 0.7191575727915621\n",
      "loss: 0.7191706347777178\n",
      "loss: 0.8725000000000002\n",
      "loss: 0.7334291612729512\n",
      "loss: 0.7259931618518612\n",
      "loss: 0.7329297723174933\n",
      "loss: 0.7217674183974416\n",
      "loss: 0.7184352585354759\n",
      "loss: 0.718077869853146\n",
      "loss: 0.7212500000000001\n",
      "loss: 0.7863320298058646\n",
      "loss: 0.721017414372203\n",
      "loss: 0.718397902124126\n",
      "loss: 0.7193181975881173\n",
      "loss: 0.7179540275633287\n",
      "loss: 0.7184409921475118\n",
      "loss: 0.7181439724009301\n",
      "loss: 0.7183027845610221\n",
      "loss: 0.7179691725274446\n",
      "loss: 0.7184210131670992\n",
      "loss: 0.7182536293885161\n",
      "loss: 0.7181603184667706\n",
      "loss: 0.718272756171846\n",
      "loss: 0.7181908632391141\n",
      "loss: 0.7187091591700892\n",
      "loss: 0.7183592634389223\n",
      "loss: 0.7182902934132334\n",
      "loss: 0.7182814947979719\n",
      "loss: 0.7183281734680127\n",
      "Train Accuracy: {} 66.25\n",
      "Test Accuracy: {} 90.37433155080214\n"
     ]
    }
   ],
   "source": [
    "##################\n",
    "#INSERT CODE HERE#\n",
    "##################\n",
    "\n",
    "y_train = 2 * y_train - 1\n",
    "y_test = 2 * y_test - 1\n",
    "\n",
    "w = learn_reg_ERM(X_train, y_train, 10)\n",
    "y_hat_train = predict(w, X_train)\n",
    "y_hat_test = predict(w, X_test)\n",
    "print(\"Train Accuracy: {}\", format(accuracy(y_train, y_hat_train)))\n",
    "print(\"Test Accuracy: {}\", format(accuracy(y_test, y_hat_test)))"
   ]
  },
  {
   "cell_type": "markdown",
   "metadata": {},
   "source": [
    "#### 5.2\n",
    "Compare the accuracy of the linear model with the accuracy of a random forest and a decision tree on the training and test data set."
   ]
  },
  {
   "cell_type": "code",
   "execution_count": 8,
   "metadata": {},
   "outputs": [],
   "source": [
    "from sklearn.ensemble import RandomForestClassifier\n",
    "from sklearn.metrics import accuracy_score\n",
    "from sklearn.tree import DecisionTreeClassifier"
   ]
  },
  {
   "cell_type": "code",
   "execution_count": 9,
   "metadata": {},
   "outputs": [
    {
     "name": "stdout",
     "output_type": "stream",
     "text": [
      "0.7754010695187166\n",
      "0.679144385026738\n"
     ]
    }
   ],
   "source": [
    "##################\n",
    "#INSERT CODE HERE#\n",
    "##################\n",
    "\n",
    "# Random Forest\n",
    "clf = RandomForestClassifier(n_estimators = 30, max_depth = 20, random_state = 101)\n",
    "clf.fit(X_train, y_train)\n",
    "y_pred_test = clf.predict(X_test)\n",
    "#print(y_pred)\n",
    "print(accuracy_score(y_test, y_pred_test))\n",
    "\n",
    "# Decision Tree\n",
    "clf = DecisionTreeClassifier()\n",
    "clf = clf.fit(X_train,y_train)\n",
    "y_pred_test = clf.predict(X_test)\n",
    "print(accuracy_score(y_test, y_pred_test))"
   ]
  },
  {
   "cell_type": "code",
   "execution_count": null,
   "metadata": {},
   "outputs": [],
   "source": []
  }
 ],
 "metadata": {
  "kernelspec": {
   "display_name": "Python 3",
   "language": "python",
   "name": "python3"
  },
  "language_info": {
   "codemirror_mode": {
    "name": "ipython",
    "version": 3
   },
   "file_extension": ".py",
   "mimetype": "text/x-python",
   "name": "python",
   "nbconvert_exporter": "python",
   "pygments_lexer": "ipython3",
   "version": "3.8.8"
  }
 },
 "nbformat": 4,
 "nbformat_minor": 1
}
